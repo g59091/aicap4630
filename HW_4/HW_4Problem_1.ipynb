{
  "nbformat": 4,
  "nbformat_minor": 0,
  "metadata": {
    "colab": {
      "name": "HW#4Problem#1.ipynb",
      "provenance": [],
      "collapsed_sections": []
    },
    "kernelspec": {
      "name": "python3",
      "display_name": "Python 3"
    }
  },
  "cells": [
    {
      "cell_type": "markdown",
      "metadata": {
        "id": "esK8S16LVxKy",
        "colab_type": "text"
      },
      "source": [
        "<h2>Setting up imports and helper functions...</h2>\n",
        "These helper functions will allow us to have padded matricies if they aren't square."
      ]
    },
    {
      "cell_type": "code",
      "metadata": {
        "id": "zKrf89qoHhaO",
        "colab_type": "code",
        "colab": {
          "base_uri": "https://localhost:8080/",
          "height": 34
        },
        "outputId": "91ed9345-2f97-4fb0-8cd0-8e1ba087154f"
      },
      "source": [
        "import random\n",
        "import numpy as np\n",
        "print(np.__version__)\n",
        "\n",
        "# checks if matrix is square\n",
        "def isSquareMtx(array):\n",
        "  return (array.shape[0] == array.shape[1])\n",
        "\n",
        "# checks array if it needs padding\n",
        "# returns tuple of dimensions, and if they're square\n",
        "def checkIfNeedPad(array):\n",
        "  lesser = 2\n",
        "  if (array.shape[0] == array.shape[1]):\n",
        "    sq = True\n",
        "  else:\n",
        "    if (array.shape[0] < array.shape[1]):\n",
        "      lesser = 0\n",
        "    elif (array.shape[0] > array.shape[1]):\n",
        "      lesser = 1\n",
        "    sq = False\n",
        "  return array.shape[0], array.shape[1], sq, \\\n",
        "    abs(array.shape[0] - array.shape[1]), lesser\n",
        "\n",
        "# paddes the matrix\n",
        "def padMtx(array):\n",
        "  newshape, padarr = (), []\n",
        "  (arrshape_0, arrshape_1, isSquare, diff, lessloc) = checkIfNeedPad(test)\n",
        "  # check if the array is not square\n",
        "  if (not isSquare and lessloc != 2):\n",
        "    newshape = (arrshape_0 + diff if lessloc == 0 else arrshape_0 \\\n",
        "                , arrshape_1 + diff if lessloc == 1 else arrshape_1)\n",
        "    # creating new array with square, padded sides\n",
        "    padarr = np.zeros(newshape)\n",
        "    # copying over old data\n",
        "    padarr[:array.shape[0],:array.shape[1]] = array\n",
        "  else:\n",
        "    padarr = array\n",
        "  return padarr.astype(int)"
      ],
      "execution_count": 95,
      "outputs": [
        {
          "output_type": "stream",
          "text": [
            "1.18.2\n"
          ],
          "name": "stdout"
        }
      ]
    },
    {
      "cell_type": "markdown",
      "metadata": {
        "id": "KNUYE0RekR7g",
        "colab_type": "text"
      },
      "source": [
        "<h2>...Creating convolution functionality...</h2>"
      ]
    },
    {
      "cell_type": "code",
      "metadata": {
        "id": "vJAdRYg0Kfvw",
        "colab_type": "code",
        "colab": {}
      },
      "source": [
        "# convolution functionality\n",
        "def conv2d(input_mat, kernel_mat):\n",
        "  # checking if both matricies are not square\n",
        "  if (not isSquareMtx(input_mat)):\n",
        "    padMtx(input_mat)\n",
        "  if (not isSquareMtx(kernel_mat)):\n",
        "    padMtx(kernel_mat)\n",
        "  # checking if kernel matrix is greater than input matrix\n",
        "  if (kernel_mat.shape > input_mat.shape):\n",
        "    return print(\"Error: Kernel matrix greater than input matrix. \"\\\n",
        "                 \"Exiting from function.\")\n",
        "  \n",
        "  # flipping kernel to do convolution\n",
        "  kernel_mat = np.flip(kernel_mat)\n",
        "  # grabbing data for convolution\n",
        "  y, x = input_mat.shape\n",
        "  ky, kx = kernel_mat.shape\n",
        "  y = y - ky + 1\n",
        "  x = x - kx + 1\n",
        "  output_mat = np.zeros((y,x))\n",
        "  \n",
        "  # loop through input matrix\n",
        "  for i in range(y):\n",
        "    for j in range(x):\n",
        "      # convolution = multiply kernel mtx. by kernel-sized piece of input mtx.\n",
        "      # sum up all values there and put them in indv. value of output mtx.\n",
        "      output_mat[i][j] = np.sum(kernel_mat * input_mat[i:i+ky, j:j+kx])\n",
        "  return output_mat"
      ],
      "execution_count": 0,
      "outputs": []
    },
    {
      "cell_type": "markdown",
      "metadata": {
        "id": "mk5BxvrwhOXZ",
        "colab_type": "text"
      },
      "source": [
        "<h2>...And testing the code above.</h2>\n",
        "This code was grabed from a TA for this class. \n",
        "\n",
        "[Link to TA's code](https://colab.research.google.com/drive/1MIoNq4_xglLesBF1kdWJelP2CmdPuYbv)"
      ]
    },
    {
      "cell_type": "code",
      "metadata": {
        "id": "0PL7gXVifZQV",
        "colab_type": "code",
        "colab": {
          "base_uri": "https://localhost:8080/",
          "height": 391
        },
        "outputId": "63ffe5d7-d755-4ed6-ac22-c716808063d9"
      },
      "source": [
        "from scipy import signal\n",
        "import numpy as np\n",
        "\n",
        "input_mat = []\n",
        "kernel_mat = []\n",
        "expected_mat = []\n",
        "\n",
        "# test case 1\n",
        "input_mat.append(np.array([[1, 2, 1, 2],\n",
        "                      [2, 1, 2, 1],\n",
        "                      [1, 2, 1, 2],\n",
        "                      [2, 1, 2, 1]]))\n",
        "\n",
        "kernel_mat.append(np.array([[1, 0],\n",
        "                       [0, 1]]))\n",
        "\n",
        "expected_mat.append(np.array([[2, 4, 2],\n",
        "                                [4, 2, 4],\n",
        "                                [2, 4, 2]]))\n",
        "\n",
        "# test case 2\n",
        "input_mat.append(np.array([[1, 0, 0, 0],\n",
        "                      [0, 1, 0, 0],\n",
        "                      [0, 0, 1, 0],\n",
        "                      [0, 0, 0, 1]]))\n",
        "kernel_mat.append(np.array([[1, 0], [0, 1]]))\n",
        "expected_mat.append(np.array([[2, 0, 0], [0, 2, 0], [0, 0, 2]]))\n",
        "\n",
        "\n",
        "# test case 3\n",
        "input_mat.append(np.array([[1, 0, 0, 0],\n",
        "                      [0, 1, 0, 0],\n",
        "                      [0, 0, 1, 0],\n",
        "                      [0, 0, 0, 1]]))\n",
        "kernel_mat.append(np.array([[1, -1],\n",
        "                       [-1, 0]]))\n",
        "\n",
        "expected_mat.append(np.array([[ 1, -1,  0], [-1,  1, -1],[ 0, -1,  1]]))\n",
        "\n",
        "\n",
        "# test case 4\n",
        "input_mat.append(np.array([[1, 0, 0, 0],\n",
        "                      [0, 1, 0, 0],\n",
        "                      [0, 0, 1, 0],\n",
        "                      [0, 0, 0, 1]]))\n",
        "kernel_mat.append(np.array([[1, 0, 0, 0],\n",
        "                      [0, 1, 0, 0],\n",
        "                      [0, 0, 1, 0],\n",
        "                      [0, 0, 0, 1]]))\n",
        "\n",
        "expected_mat.append(np.array([[4]]))\n",
        "\n",
        "\n",
        "# test case 5 - should either through an error, or return empty matrix\n",
        "input_mat.append(np.array([[1, -1],\n",
        "                       [-1, 0]]))\n",
        "kernel_mat.append(np.array([[1, 0, 0, 0],\n",
        "                      [0, 1, 0, 0],\n",
        "                      [0, 0, 1, 0],\n",
        "                      [0, 0, 0, 1]]))\n",
        "\n",
        "expected_mat.append([])\n",
        "\n",
        "\n",
        "\n",
        "for i in range(len(input_mat)):\n",
        "  # uncomment line for student code testing\n",
        "  output_mat = conv2d(input_mat[i], kernel_mat[i])\n",
        "\n",
        "  # uncomment lines below (and comment line above) for generating test cases.\n",
        "  if input_mat[i].shape[0] < kernel_mat[i].shape[0]:\n",
        "    output_mat = []\n",
        "  else:\n",
        "    output_mat = signal.convolve2d(input_mat[i], kernel_mat[i], mode='valid')\n",
        "\n",
        "  print(output_mat)\n",
        "  if np.array_equal(output_mat, expected_mat[i]):\n",
        "    print(\"Correct output!\\n\")\n",
        "  else:\n",
        "    print(\"Incorrect output!\\n\")"
      ],
      "execution_count": 97,
      "outputs": [
        {
          "output_type": "stream",
          "text": [
            "[[2 4 2]\n",
            " [4 2 4]\n",
            " [2 4 2]]\n",
            "Correct output!\n",
            "\n",
            "[[2 0 0]\n",
            " [0 2 0]\n",
            " [0 0 2]]\n",
            "Correct output!\n",
            "\n",
            "[[ 1 -1  0]\n",
            " [-1  1 -1]\n",
            " [ 0 -1  1]]\n",
            "Correct output!\n",
            "\n",
            "[[4]]\n",
            "Correct output!\n",
            "\n",
            "Error: Kernel matrix greater than input matrix. Exiting from function.\n",
            "[]\n",
            "Correct output!\n",
            "\n"
          ],
          "name": "stdout"
        }
      ]
    }
  ]
}