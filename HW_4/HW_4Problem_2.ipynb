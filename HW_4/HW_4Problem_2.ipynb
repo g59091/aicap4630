{
  "nbformat": 4,
  "nbformat_minor": 0,
  "metadata": {
    "colab": {
      "name": "HW#4Problem#2.ipynb",
      "provenance": [],
      "collapsed_sections": []
    },
    "kernelspec": {
      "name": "python3",
      "display_name": "Python 3"
    }
  },
  "cells": [
    {
      "cell_type": "markdown",
      "metadata": {
        "id": "dBKcsk1fn7F1",
        "colab_type": "text"
      },
      "source": [
        "<h2>Setting up imports and helper functions...</h2>\n",
        "These helper functions will allow us to have padded matricies if they aren't square. Similar to HW#4Problem#1's helper functions."
      ]
    },
    {
      "cell_type": "code",
      "metadata": {
        "id": "bEZ_Id8Jn0zo",
        "colab_type": "code",
        "colab": {
          "base_uri": "https://localhost:8080/",
          "height": 34
        },
        "outputId": "400ac884-0011-4983-9ba1-c18977282ec4"
      },
      "source": [
        "import random\n",
        "import numpy as np\n",
        "print(np.__version__)\n",
        "\n",
        "# checks if matrix is square\n",
        "def isSquareMtx(array):\n",
        "  return (array.shape[0] == array.shape[1])\n",
        "\n",
        "# checks array if it needs padding\n",
        "# returns tuple of dimensions, and if they're square\n",
        "def checkIfNeedPad(array):\n",
        "  lesser = 2\n",
        "  if (array.shape[0] == array.shape[1]):\n",
        "    sq = True\n",
        "  else:\n",
        "    if (array.shape[0] < array.shape[1]):\n",
        "      lesser = 0\n",
        "    elif (array.shape[0] > array.shape[1]):\n",
        "      lesser = 1\n",
        "    sq = False\n",
        "  return array.shape[0], array.shape[1], sq, \\\n",
        "    abs(array.shape[0] - array.shape[1]), lesser\n",
        "\n",
        "# paddes the matrix\n",
        "def padMtx(array):\n",
        "  newshape, padarr = (), []\n",
        "  (arrshape_0, arrshape_1, isSquare, diff, lessloc) = checkIfNeedPad(test)\n",
        "  # check if the array is not square\n",
        "  if (not isSquare and lessloc != 2):\n",
        "    newshape = (arrshape_0 + diff if lessloc == 0 else arrshape_0 \\\n",
        "                , arrshape_1 + diff if lessloc == 1 else arrshape_1)\n",
        "    # creating new array with square, padded sides\n",
        "    padarr = np.zeros(newshape)\n",
        "    # copying over old data\n",
        "    padarr[:array.shape[0],:array.shape[1]] = array\n",
        "  else:\n",
        "    padarr = array\n",
        "  return padarr.astype(int)"
      ],
      "execution_count": 34,
      "outputs": [
        {
          "output_type": "stream",
          "text": [
            "1.18.2\n"
          ],
          "name": "stdout"
        }
      ]
    },
    {
      "cell_type": "markdown",
      "metadata": {
        "id": "G1GLGVVJz2BQ",
        "colab_type": "text"
      },
      "source": [
        "<h2>...Creating maxpooling functionality...</h2>"
      ]
    },
    {
      "cell_type": "code",
      "metadata": {
        "id": "cfHFaDD_oIUW",
        "colab_type": "code",
        "colab": {
          "base_uri": "https://localhost:8080/",
          "height": 119
        },
        "outputId": "e63fdf26-85c8-4bc8-c6df-fb99687e187c"
      },
      "source": [
        "# maxpooling functionality\n",
        "def maxpooling2d(input_mat, s):\n",
        "  # checking if input matrix is not square\n",
        "  if (not isSquareMtx(input_mat)):\n",
        "    padMtx(input_mat)\n",
        "  # checking if pool matrix is going to be greater than input matrix\n",
        "  smatshape = (s, s)\n",
        "  if (smatshape > input_mat.shape):\n",
        "    return print(\"Error: Pool matrix greater than input matrix. \"\\\n",
        "                 \"Exiting from function.\")\n",
        "    \n",
        "  # Assume stride = s (can be independent from window shape, however)\n",
        "  stride = s\n",
        "  # building pool matrix\n",
        "  y, x = input_mat.shape\n",
        "  output_mat = np.zeros((int(y / s), int(x / s)))\n",
        "  y = y - s + 1\n",
        "  x = x - s + 1\n",
        "  # loop through input matrix\n",
        "  for i in range(0, y, s):\n",
        "    for j in range(0, x, s):\n",
        "      # in every s region of the input matrix, find the max \n",
        "      # then output to the final matrix   \n",
        "      output_mat[int(i / s)][int(j / s)] = np.amax(input_mat[i:i+s, j:j+s])\n",
        "\n",
        "  return output_mat.astype(int)\n",
        "\n",
        "test = np.array([[1, 2, 1, 2], [2, 4, 2, 1], [1, 2, 4, 2], [2, 1, 2, 1]])\n",
        "print(\"Test array = \", test)\n",
        "print(\"Test results = \", maxpooling2d(test, 2))"
      ],
      "execution_count": 35,
      "outputs": [
        {
          "output_type": "stream",
          "text": [
            "Test array =  [[1 2 1 2]\n",
            " [2 4 2 1]\n",
            " [1 2 4 2]\n",
            " [2 1 2 1]]\n",
            "Test results =  [[4 2]\n",
            " [2 4]]\n"
          ],
          "name": "stdout"
        }
      ]
    },
    {
      "cell_type": "markdown",
      "metadata": {
        "id": "uzlCqtKgzwyK",
        "colab_type": "text"
      },
      "source": [
        "<h2>...And testing the code above.</h2>\n",
        "This code was grabed from a TA for this class. \n",
        "\n",
        "[Link to TA's code](https://colab.research.google.com/drive/1MIoNq4_xglLesBF1kdWJelP2CmdPuYbv)"
      ]
    },
    {
      "cell_type": "code",
      "metadata": {
        "id": "4U0KeSMszm1O",
        "colab_type": "code",
        "colab": {
          "base_uri": "https://localhost:8080/",
          "height": 136
        },
        "outputId": "3dfdb092-f334-4e34-c8e0-bcbdee976a8e"
      },
      "source": [
        "import skimage.measure\n",
        "\n",
        "input_mat = []\n",
        "expected_mat = []\n",
        "s = []\n",
        "input_mat.append(np.array([[1, 2, 1, 2],\n",
        "                      [2, 4, 2, 1],\n",
        "                      [1, 2, 4, 2],\n",
        "                      [2, 1, 2, 1]]))\n",
        "s.append(2)\n",
        "\n",
        "expected_mat.append(np.array([[4, 2],\n",
        "                                [2, 4]]))\n",
        "\n",
        "input_mat.append(np.array([[1, 2, 1, 2, 4, 5],\n",
        "                      [2, 4, 2, 1, 0, 3],\n",
        "                      [1, 2, 4, 2, 4, 5],\n",
        "                      [2, 1, 2, 1, 2, 1],\n",
        "                      [1, 1, 2, 3, 1, 2]]))\n",
        "s.append(2)\n",
        "\n",
        "expected_mat.append([[4, 2, 5],\n",
        " [2, 4, 5],\n",
        " [1, 3, 2]])\n",
        "\n",
        "\n",
        "for i in range(len(input_mat)):\n",
        "  # uncomment top line and comment second line to test code\n",
        "  output_mat = maxpooling2d(input_mat[i], s[i])\n",
        "  output_mat = skimage.measure.block_reduce(input_mat[i], (s[i],s[i]), np.max)\n",
        "\n",
        "  print(output_mat)\n",
        "\n",
        "  if np.array_equal(output_mat, expected_mat[i]):\n",
        "    print(\"Correct output!\")\n",
        "  else:\n",
        "    print(\"Incorrect output!\")"
      ],
      "execution_count": 36,
      "outputs": [
        {
          "output_type": "stream",
          "text": [
            "[[4 2]\n",
            " [2 4]]\n",
            "Correct output!\n",
            "[[4 2 5]\n",
            " [2 4 5]\n",
            " [1 3 2]]\n",
            "Correct output!\n"
          ],
          "name": "stdout"
        }
      ]
    }
  ]
}