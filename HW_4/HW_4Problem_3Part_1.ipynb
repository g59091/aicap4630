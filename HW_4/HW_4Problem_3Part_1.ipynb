{
  "nbformat": 4,
  "nbformat_minor": 0,
  "metadata": {
    "colab": {
      "name": "HW#4Problem#3Part#1.ipynb",
      "provenance": [],
      "collapsed_sections": []
    },
    "kernelspec": {
      "name": "python3",
      "display_name": "Python 3"
    },
    "accelerator": "GPU"
  },
  "cells": [
    {
      "cell_type": "markdown",
      "metadata": {
        "id": "KSrgMJ5vKFzQ",
        "colab_type": "text"
      },
      "source": [
        "# Fine-tuning ResNet50"
      ]
    },
    {
      "cell_type": "markdown",
      "metadata": {
        "id": "TIW7bZaAK-Hf",
        "colab_type": "text"
      },
      "source": [
        "This is based on section 5.3 *Using a pretrained convnet* of the book *Deep learning with Python* by Francois Chollet. I have made several changes to the code. I use the data that is already provided by Google. I don't download the data from Kaggle as in the deep learning book."
      ]
    },
    {
      "cell_type": "markdown",
      "metadata": {
        "id": "nsBq__dVo2pj",
        "colab_type": "text"
      },
      "source": [
        "## Feature extraction"
      ]
    },
    {
      "cell_type": "markdown",
      "metadata": {
        "id": "0g6ETAM9o54M",
        "colab_type": "text"
      },
      "source": [
        "Feature extraction consists of using the representations learned by a previous network to extract interesting features from new samples. These features are then run through a new classifier, which is trained from scratch.\n",
        "\n",
        "We will use here the convolutional base of the ResNet50 model to extract the features. We will feed these features to a densely connected classifier with dropout. We will fine-tune some layers."
      ]
    },
    {
      "cell_type": "markdown",
      "metadata": {
        "id": "BqIG8QHMLNOn",
        "colab_type": "text"
      },
      "source": [
        "## Download the data"
      ]
    },
    {
      "cell_type": "markdown",
      "metadata": {
        "id": "t3I1jd7cKV6_",
        "colab_type": "text"
      },
      "source": [
        "Download the example data, a zip. of 2,000 JPG pictures of cats and dogs and extract it locally in ```/tmp```.\n",
        "\n"
      ]
    },
    {
      "cell_type": "code",
      "metadata": {
        "id": "JWjprHEXJ5Qi",
        "colab_type": "code",
        "outputId": "34ae2791-6cbe-4b82-871e-aadc451419ca",
        "colab": {
          "base_uri": "https://localhost:8080/",
          "height": 204
        }
      },
      "source": [
        "!wget --no-check-certificate \\\n",
        "    https://storage.googleapis.com/mledu-datasets/cats_and_dogs_filtered.zip \\\n",
        "    -O /tmp/cats_and_dogs_filtered.zip"
      ],
      "execution_count": 1,
      "outputs": [
        {
          "output_type": "stream",
          "text": [
            "--2020-04-22 01:20:58--  https://storage.googleapis.com/mledu-datasets/cats_and_dogs_filtered.zip\n",
            "Resolving storage.googleapis.com (storage.googleapis.com)... 74.125.142.128, 2607:f8b0:400e:c08::80\n",
            "Connecting to storage.googleapis.com (storage.googleapis.com)|74.125.142.128|:443... connected.\n",
            "HTTP request sent, awaiting response... 200 OK\n",
            "Length: 68606236 (65M) [application/zip]\n",
            "Saving to: ‘/tmp/cats_and_dogs_filtered.zip’\n",
            "\n",
            "/tmp/cats_and_dogs_ 100%[===================>]  65.43M   151MB/s    in 0.4s    \n",
            "\n",
            "2020-04-22 01:20:59 (151 MB/s) - ‘/tmp/cats_and_dogs_filtered.zip’ saved [68606236/68606236]\n",
            "\n"
          ],
          "name": "stdout"
        }
      ]
    },
    {
      "cell_type": "code",
      "metadata": {
        "id": "WvoHtdA-K6Rw",
        "colab_type": "code",
        "colab": {}
      },
      "source": [
        "import os\n",
        "import zipfile\n",
        "\n",
        "local_zip = '/tmp/cats_and_dogs_filtered.zip'\n",
        "zip_ref = zipfile.ZipFile(local_zip, 'r')\n",
        "zip_ref.extractall('/tmp')\n",
        "zip_ref.close()"
      ],
      "execution_count": 0,
      "outputs": []
    },
    {
      "cell_type": "markdown",
      "metadata": {
        "id": "shZiOBnJMyy_",
        "colab_type": "text"
      },
      "source": [
        "Note that the data provided by Google does not have a test set."
      ]
    },
    {
      "cell_type": "code",
      "metadata": {
        "id": "dL8ikM89LlsH",
        "colab_type": "code",
        "colab": {}
      },
      "source": [
        "base_dir = '/tmp/cats_and_dogs_filtered'\n",
        "train_dir = os.path.join(base_dir, 'train')\n",
        "validation_dir = os.path.join(base_dir, 'validation')\n",
        "\n",
        "# Directory with our training cat pictures\n",
        "train_cats_dir = os.path.join(train_dir, 'cats')\n",
        "\n",
        "# Directory with our training dog pictures\n",
        "train_dogs_dir = os.path.join(train_dir, 'dogs')\n",
        "\n",
        "# Directory with our validation cat pictures\n",
        "validation_cats_dir = os.path.join(validation_dir, 'cats')\n",
        "\n",
        "# Directory with our validation dog pictures\n",
        "validation_dogs_dir = os.path.join(validation_dir, 'dogs')"
      ],
      "execution_count": 0,
      "outputs": []
    },
    {
      "cell_type": "markdown",
      "metadata": {
        "id": "inyP8bcdXnn-",
        "colab_type": "text"
      },
      "source": [
        "## Build network with ResNet50 convolution base and custom densely connected layers"
      ]
    },
    {
      "cell_type": "markdown",
      "metadata": {
        "id": "kQ48W5T9rHWu",
        "colab_type": "text"
      },
      "source": [
        "### Load the convolutional base"
      ]
    },
    {
      "cell_type": "code",
      "metadata": {
        "id": "Y0FgtANCXm_H",
        "colab_type": "code",
        "outputId": "9f7ba503-3c9b-4bab-fbf1-f2ed13379d6d",
        "colab": {
          "base_uri": "https://localhost:8080/",
          "height": 102
        }
      },
      "source": [
        "from keras.applications.resnet50 import ResNet50\n",
        "\n",
        "conv_base = ResNet50(\n",
        "    weights='imagenet', \n",
        "    include_top=False, \n",
        "    input_shape=(150, 150, 3))"
      ],
      "execution_count": 4,
      "outputs": [
        {
          "output_type": "stream",
          "text": [
            "Using TensorFlow backend.\n",
            "/usr/local/lib/python3.6/dist-packages/keras_applications/resnet50.py:265: UserWarning: The output shape of `ResNet50(include_top=False)` has been changed since Keras 2.2.0.\n",
            "  warnings.warn('The output shape of `ResNet50(include_top=False)` '\n"
          ],
          "name": "stderr"
        },
        {
          "output_type": "stream",
          "text": [
            "Downloading data from https://github.com/fchollet/deep-learning-models/releases/download/v0.2/resnet50_weights_tf_dim_ordering_tf_kernels_notop.h5\n",
            "94658560/94653016 [==============================] - 3s 0us/step\n"
          ],
          "name": "stdout"
        }
      ]
    },
    {
      "cell_type": "markdown",
      "metadata": {
        "id": "D6OBHOO9q1ou",
        "colab_type": "text"
      },
      "source": [
        "### Freeze the convolutional base"
      ]
    },
    {
      "cell_type": "code",
      "metadata": {
        "id": "UleRo4Dpq6Ld",
        "colab_type": "code",
        "colab": {}
      },
      "source": [
        "conv_base.trainable = False"
      ],
      "execution_count": 0,
      "outputs": []
    },
    {
      "cell_type": "markdown",
      "metadata": {
        "id": "Qfx6PqhPrb7Q",
        "colab_type": "text"
      },
      "source": [
        "### Concatenate the convolutional base and densely connected layers"
      ]
    },
    {
      "cell_type": "code",
      "metadata": {
        "id": "qUpmocDAO3xm",
        "colab_type": "code",
        "colab": {}
      },
      "source": [
        "from keras import layers\n",
        "from keras import models\n",
        "from keras import optimizers\n",
        "\n",
        "model = models.Sequential()\n",
        "model.add(conv_base)\n",
        "model.add(layers.Flatten())\n",
        "model.add(layers.Dense(256, activation='relu'))\n",
        "#model.add(layers.Dropout(0.1))\n",
        "model.add(layers.Dense(1, activation='sigmoid'))"
      ],
      "execution_count": 0,
      "outputs": []
    },
    {
      "cell_type": "code",
      "metadata": {
        "id": "Fh6gZSeAjF7c",
        "colab_type": "code",
        "outputId": "c5f4349d-3b42-42ea-9280-04bdbc530e57",
        "colab": {
          "base_uri": "https://localhost:8080/",
          "height": 289
        }
      },
      "source": [
        "model.summary()"
      ],
      "execution_count": 7,
      "outputs": [
        {
          "output_type": "stream",
          "text": [
            "Model: \"sequential_1\"\n",
            "_________________________________________________________________\n",
            "Layer (type)                 Output Shape              Param #   \n",
            "=================================================================\n",
            "resnet50 (Model)             (None, 5, 5, 2048)        23587712  \n",
            "_________________________________________________________________\n",
            "flatten_1 (Flatten)          (None, 51200)             0         \n",
            "_________________________________________________________________\n",
            "dense_1 (Dense)              (None, 256)               13107456  \n",
            "_________________________________________________________________\n",
            "dense_2 (Dense)              (None, 1)                 257       \n",
            "=================================================================\n",
            "Total params: 36,695,425\n",
            "Trainable params: 13,107,713\n",
            "Non-trainable params: 23,587,712\n",
            "_________________________________________________________________\n"
          ],
          "name": "stdout"
        }
      ]
    },
    {
      "cell_type": "markdown",
      "metadata": {
        "id": "eZjBiddhi5Qj",
        "colab_type": "text"
      },
      "source": [
        "## Train the model end to end with frozen convolutional base"
      ]
    },
    {
      "cell_type": "code",
      "metadata": {
        "id": "tfAQlC2Oi41L",
        "colab_type": "code",
        "outputId": "c2425bc5-b99f-4290-dbd1-72ad40e06b13",
        "colab": {
          "base_uri": "https://localhost:8080/",
          "height": 1000
        }
      },
      "source": [
        "from keras.preprocessing.image import ImageDataGenerator\n",
        "from keras import optimizers\n",
        "\n",
        "# data augmentation\n",
        "\n",
        "train_datagen = ImageDataGenerator(\n",
        "    rescale=1./255, \n",
        "    rotation_range=40,\n",
        "    width_shift_range=0.2,\n",
        "    height_shift_range=0.2,\n",
        "    shear_range=0.2,\n",
        "    zoom_range=0.2,\n",
        "    horizontal_flip=True,\n",
        "    fill_mode='nearest'\n",
        ")\n",
        "\n",
        "train_generator = train_datagen.flow_from_directory(\n",
        "    train_dir,\n",
        "    target_size=(150, 150),\n",
        "    batch_size=20,\n",
        "    class_mode='binary')\n",
        "\n",
        "validation_datagen = ImageDataGenerator(rescale=1./255)\n",
        "\n",
        "validation_generator = validation_datagen.flow_from_directory(\n",
        "    validation_dir,\n",
        "    target_size=(150, 150),\n",
        "    batch_size=20,\n",
        "    class_mode='binary')\n",
        "\n",
        "# compile model\n",
        "\n",
        "model.compile(\n",
        "    loss='binary_crossentropy', \n",
        "    optimizer=optimizers.RMSprop(lr=2e-5), \n",
        "    metrics=['acc'])\n",
        "\n",
        "# train\n",
        "\n",
        "history = model.fit_generator(\n",
        "    train_generator,\n",
        "    steps_per_epoch=100,\n",
        "    epochs=30,\n",
        "    validation_data=validation_generator,\n",
        "    validation_steps=50\n",
        ")"
      ],
      "execution_count": 8,
      "outputs": [
        {
          "output_type": "stream",
          "text": [
            "Found 2000 images belonging to 2 classes.\n",
            "Found 1000 images belonging to 2 classes.\n",
            "Epoch 1/30\n",
            "100/100 [==============================] - 26s 261ms/step - loss: 0.4328 - acc: 0.8145 - val_loss: 0.6281 - val_acc: 0.4990\n",
            "Epoch 2/30\n",
            "100/100 [==============================] - 17s 171ms/step - loss: 0.3034 - acc: 0.8775 - val_loss: 0.6600 - val_acc: 0.5000\n",
            "Epoch 3/30\n",
            "100/100 [==============================] - 17s 172ms/step - loss: 0.2451 - acc: 0.9025 - val_loss: 0.7151 - val_acc: 0.5000\n",
            "Epoch 4/30\n",
            "100/100 [==============================] - 17s 172ms/step - loss: 0.2440 - acc: 0.9010 - val_loss: 0.7795 - val_acc: 0.5000\n",
            "Epoch 5/30\n",
            "100/100 [==============================] - 17s 171ms/step - loss: 0.2041 - acc: 0.9175 - val_loss: 0.6887 - val_acc: 0.5000\n",
            "Epoch 6/30\n",
            "100/100 [==============================] - 17s 170ms/step - loss: 0.2021 - acc: 0.9235 - val_loss: 1.2180 - val_acc: 0.5000\n",
            "Epoch 7/30\n",
            "100/100 [==============================] - 17s 171ms/step - loss: 0.2079 - acc: 0.9220 - val_loss: 0.8984 - val_acc: 0.5000\n",
            "Epoch 8/30\n",
            "100/100 [==============================] - 17s 170ms/step - loss: 0.1912 - acc: 0.9200 - val_loss: 1.1279 - val_acc: 0.5000\n",
            "Epoch 9/30\n",
            "100/100 [==============================] - 17s 171ms/step - loss: 0.1814 - acc: 0.9275 - val_loss: 0.7940 - val_acc: 0.5000\n",
            "Epoch 10/30\n",
            "100/100 [==============================] - 17s 170ms/step - loss: 0.1835 - acc: 0.9255 - val_loss: 1.5033 - val_acc: 0.5000\n",
            "Epoch 11/30\n",
            "100/100 [==============================] - 17s 170ms/step - loss: 0.1691 - acc: 0.9330 - val_loss: 0.9845 - val_acc: 0.5000\n",
            "Epoch 12/30\n",
            "100/100 [==============================] - 17s 170ms/step - loss: 0.1775 - acc: 0.9330 - val_loss: 1.5501 - val_acc: 0.5000\n",
            "Epoch 13/30\n",
            "100/100 [==============================] - 17s 171ms/step - loss: 0.1422 - acc: 0.9455 - val_loss: 1.3042 - val_acc: 0.5000\n",
            "Epoch 14/30\n",
            "100/100 [==============================] - 17s 169ms/step - loss: 0.1717 - acc: 0.9395 - val_loss: 1.1126 - val_acc: 0.5000\n",
            "Epoch 15/30\n",
            "100/100 [==============================] - 17s 169ms/step - loss: 0.1590 - acc: 0.9410 - val_loss: 1.7826 - val_acc: 0.5000\n",
            "Epoch 16/30\n",
            "100/100 [==============================] - 17s 170ms/step - loss: 0.1435 - acc: 0.9460 - val_loss: 0.8542 - val_acc: 0.5000\n",
            "Epoch 17/30\n",
            "100/100 [==============================] - 17s 170ms/step - loss: 0.1589 - acc: 0.9400 - val_loss: 1.0002 - val_acc: 0.5000\n",
            "Epoch 18/30\n",
            "100/100 [==============================] - 17s 170ms/step - loss: 0.1519 - acc: 0.9475 - val_loss: 1.3297 - val_acc: 0.5000\n",
            "Epoch 19/30\n",
            "100/100 [==============================] - 17s 170ms/step - loss: 0.1425 - acc: 0.9480 - val_loss: 1.2138 - val_acc: 0.5000\n",
            "Epoch 20/30\n",
            "100/100 [==============================] - 17s 169ms/step - loss: 0.1409 - acc: 0.9465 - val_loss: 1.2299 - val_acc: 0.5000\n",
            "Epoch 21/30\n",
            "100/100 [==============================] - 17s 169ms/step - loss: 0.1438 - acc: 0.9455 - val_loss: 0.7721 - val_acc: 0.5010\n",
            "Epoch 22/30\n",
            "100/100 [==============================] - 17s 172ms/step - loss: 0.1165 - acc: 0.9595 - val_loss: 1.6685 - val_acc: 0.5000\n",
            "Epoch 23/30\n",
            "100/100 [==============================] - 17s 171ms/step - loss: 0.1071 - acc: 0.9565 - val_loss: 1.1473 - val_acc: 0.5000\n",
            "Epoch 24/30\n",
            "100/100 [==============================] - 17s 169ms/step - loss: 0.1073 - acc: 0.9640 - val_loss: 1.5090 - val_acc: 0.5000\n",
            "Epoch 25/30\n",
            "100/100 [==============================] - 17s 171ms/step - loss: 0.1255 - acc: 0.9535 - val_loss: 1.0117 - val_acc: 0.5000\n",
            "Epoch 26/30\n",
            "100/100 [==============================] - 17s 171ms/step - loss: 0.1353 - acc: 0.9490 - val_loss: 1.4041 - val_acc: 0.5000\n",
            "Epoch 27/30\n",
            "100/100 [==============================] - 17s 171ms/step - loss: 0.1036 - acc: 0.9620 - val_loss: 1.0774 - val_acc: 0.5010\n",
            "Epoch 28/30\n",
            "100/100 [==============================] - 17s 169ms/step - loss: 0.1371 - acc: 0.9540 - val_loss: 0.9258 - val_acc: 0.5010\n",
            "Epoch 29/30\n",
            "100/100 [==============================] - 17s 169ms/step - loss: 0.1157 - acc: 0.9540 - val_loss: 1.1682 - val_acc: 0.5000\n",
            "Epoch 30/30\n",
            "100/100 [==============================] - 17s 168ms/step - loss: 0.1051 - acc: 0.9635 - val_loss: 0.7244 - val_acc: 0.5000\n"
          ],
          "name": "stdout"
        }
      ]
    },
    {
      "cell_type": "markdown",
      "metadata": {
        "id": "xqRc_vHKc92U",
        "colab_type": "text"
      },
      "source": [
        "## Display curves of loss and accuracy during training"
      ]
    },
    {
      "cell_type": "code",
      "metadata": {
        "id": "ybWwdzz9bwuQ",
        "colab_type": "code",
        "outputId": "a67726c5-4180-4e03-868e-8a470c2d1a9f",
        "colab": {
          "base_uri": "https://localhost:8080/",
          "height": 545
        }
      },
      "source": [
        "%matplotlib inline\n",
        "\n",
        "import matplotlib.pyplot as plt\n",
        "\n",
        "acc = history.history['acc']\n",
        "val_acc = history.history['val_acc']\n",
        "\n",
        "loss = history.history['loss']\n",
        "val_loss = history.history['val_loss']\n",
        "\n",
        "epochs = range(1, len(acc) + 1)\n",
        "\n",
        "# training and validation accuracy\n",
        "\n",
        "plt.plot(epochs, acc, 'bo', label='training acc')\n",
        "plt.plot(epochs, val_acc, 'b', label='validation acc')\n",
        "plt.title('training and validation accuracy')\n",
        "plt.legend()\n",
        "\n",
        "plt.figure()\n",
        "\n",
        "# training and validation loss\n",
        "\n",
        "plt.plot(epochs, loss, 'bo', label='training loss')\n",
        "plt.plot(epochs, val_loss, 'b', label='validation loss')\n",
        "plt.title('training and validation loss')\n",
        "plt.legend()\n",
        "\n",
        "plt.show()"
      ],
      "execution_count": 9,
      "outputs": [
        {
          "output_type": "display_data",
          "data": {
            "image/png": "[encoded data removed]",
            "text/plain": [
              "<Figure size 432x288 with 1 Axes>"
            ]
          },
          "metadata": {
            "tags": [],
            "needs_background": "light"
          }
        },
        {
          "output_type": "display_data",
          "data": {
            "image/png": "[encoded data removed]",
            "text/plain": [
              "<Figure size 432x288 with 1 Axes>"
            ]
          },
          "metadata": {
            "tags": [],
            "needs_background": "light"
          }
        }
      ]
    },
    {
      "cell_type": "markdown",
      "metadata": {
        "id": "lOWsxpey8lN0",
        "colab_type": "text"
      },
      "source": [
        "## Fine-tuning"
      ]
    },
    {
      "cell_type": "code",
      "metadata": {
        "id": "PwkVMx8N8qMw",
        "colab_type": "code",
        "colab": {
          "base_uri": "https://localhost:8080/",
          "height": 1000
        },
        "outputId": "49b738ec-2d64-4fa7-e0d9-4d668042aff7"
      },
      "source": [
        "conv_base.trainable = True\n",
        "\n",
        "set_trainable = False\n",
        "for layer in conv_base.layers:\n",
        "  if layer.name == 'res2a_branch2b':\n",
        "    set_trainable = True\n",
        "  if set_trainable:\n",
        "    layer.trainable = True\n",
        "  else:\n",
        "    layer.trainable = False\n",
        "\n",
        "conv_base.summary()"
      ],
      "execution_count": 13,
      "outputs": [
        {
          "output_type": "stream",
          "text": [
            "Model: \"resnet50\"\n",
            "__________________________________________________________________________________________________\n",
            "Layer (type)                    Output Shape         Param #     Connected to                     \n",
            "==================================================================================================\n",
            "input_1 (InputLayer)            (None, 150, 150, 3)  0                                            \n",
            "__________________________________________________________________________________________________\n",
            "conv1_pad (ZeroPadding2D)       (None, 156, 156, 3)  0           input_1[0][0]                    \n",
            "__________________________________________________________________________________________________\n",
            "conv1 (Conv2D)                  (None, 75, 75, 64)   9472        conv1_pad[0][0]                  \n",
            "__________________________________________________________________________________________________\n",
            "bn_conv1 (BatchNormalization)   (None, 75, 75, 64)   256         conv1[0][0]                      \n",
            "__________________________________________________________________________________________________\n",
            "activation_1 (Activation)       (None, 75, 75, 64)   0           bn_conv1[0][0]                   \n",
            "__________________________________________________________________________________________________\n",
            "pool1_pad (ZeroPadding2D)       (None, 77, 77, 64)   0           activation_1[0][0]               \n",
            "__________________________________________________________________________________________________\n",
            "max_pooling2d_1 (MaxPooling2D)  (None, 38, 38, 64)   0           pool1_pad[0][0]                  \n",
            "__________________________________________________________________________________________________\n",
            "res2a_branch2a (Conv2D)         (None, 38, 38, 64)   4160        max_pooling2d_1[0][0]            \n",
            "__________________________________________________________________________________________________\n",
            "bn2a_branch2a (BatchNormalizati (None, 38, 38, 64)   256         res2a_branch2a[0][0]             \n",
            "__________________________________________________________________________________________________\n",
            "activation_2 (Activation)       (None, 38, 38, 64)   0           bn2a_branch2a[0][0]              \n",
            "__________________________________________________________________________________________________\n",
            "res2a_branch2b (Conv2D)         (None, 38, 38, 64)   36928       activation_2[0][0]               \n",
            "__________________________________________________________________________________________________\n",
            "bn2a_branch2b (BatchNormalizati (None, 38, 38, 64)   256         res2a_branch2b[0][0]             \n",
            "__________________________________________________________________________________________________\n",
            "activation_3 (Activation)       (None, 38, 38, 64)   0           bn2a_branch2b[0][0]              \n",
            "__________________________________________________________________________________________________\n",
            "res2a_branch2c (Conv2D)         (None, 38, 38, 256)  16640       activation_3[0][0]               \n",
            "__________________________________________________________________________________________________\n",
            "res2a_branch1 (Conv2D)          (None, 38, 38, 256)  16640       max_pooling2d_1[0][0]            \n",
            "__________________________________________________________________________________________________\n",
            "bn2a_branch2c (BatchNormalizati (None, 38, 38, 256)  1024        res2a_branch2c[0][0]             \n",
            "__________________________________________________________________________________________________\n",
            "bn2a_branch1 (BatchNormalizatio (None, 38, 38, 256)  1024        res2a_branch1[0][0]              \n",
            "__________________________________________________________________________________________________\n",
            "add_1 (Add)                     (None, 38, 38, 256)  0           bn2a_branch2c[0][0]              \n",
            "                                                                 bn2a_branch1[0][0]               \n",
            "__________________________________________________________________________________________________\n",
            "activation_4 (Activation)       (None, 38, 38, 256)  0           add_1[0][0]                      \n",
            "__________________________________________________________________________________________________\n",
            "res2b_branch2a (Conv2D)         (None, 38, 38, 64)   16448       activation_4[0][0]               \n",
            "__________________________________________________________________________________________________\n",
            "bn2b_branch2a (BatchNormalizati (None, 38, 38, 64)   256         res2b_branch2a[0][0]             \n",
            "__________________________________________________________________________________________________\n",
            "activation_5 (Activation)       (None, 38, 38, 64)   0           bn2b_branch2a[0][0]              \n",
            "__________________________________________________________________________________________________\n",
            "res2b_branch2b (Conv2D)         (None, 38, 38, 64)   36928       activation_5[0][0]               \n",
            "__________________________________________________________________________________________________\n",
            "bn2b_branch2b (BatchNormalizati (None, 38, 38, 64)   256         res2b_branch2b[0][0]             \n",
            "__________________________________________________________________________________________________\n",
            "activation_6 (Activation)       (None, 38, 38, 64)   0           bn2b_branch2b[0][0]              \n",
            "__________________________________________________________________________________________________\n",
            "res2b_branch2c (Conv2D)         (None, 38, 38, 256)  16640       activation_6[0][0]               \n",
            "__________________________________________________________________________________________________\n",
            "bn2b_branch2c (BatchNormalizati (None, 38, 38, 256)  1024        res2b_branch2c[0][0]             \n",
            "__________________________________________________________________________________________________\n",
            "add_2 (Add)                     (None, 38, 38, 256)  0           bn2b_branch2c[0][0]              \n",
            "                                                                 activation_4[0][0]               \n",
            "__________________________________________________________________________________________________\n",
            "activation_7 (Activation)       (None, 38, 38, 256)  0           add_2[0][0]                      \n",
            "__________________________________________________________________________________________________\n",
            "res2c_branch2a (Conv2D)         (None, 38, 38, 64)   16448       activation_7[0][0]               \n",
            "__________________________________________________________________________________________________\n",
            "bn2c_branch2a (BatchNormalizati (None, 38, 38, 64)   256         res2c_branch2a[0][0]             \n",
            "__________________________________________________________________________________________________\n",
            "activation_8 (Activation)       (None, 38, 38, 64)   0           bn2c_branch2a[0][0]              \n",
            "__________________________________________________________________________________________________\n",
            "res2c_branch2b (Conv2D)         (None, 38, 38, 64)   36928       activation_8[0][0]               \n",
            "__________________________________________________________________________________________________\n",
            "bn2c_branch2b (BatchNormalizati (None, 38, 38, 64)   256         res2c_branch2b[0][0]             \n",
            "__________________________________________________________________________________________________\n",
            "activation_9 (Activation)       (None, 38, 38, 64)   0           bn2c_branch2b[0][0]              \n",
            "__________________________________________________________________________________________________\n",
            "res2c_branch2c (Conv2D)         (None, 38, 38, 256)  16640       activation_9[0][0]               \n",
            "__________________________________________________________________________________________________\n",
            "bn2c_branch2c (BatchNormalizati (None, 38, 38, 256)  1024        res2c_branch2c[0][0]             \n",
            "__________________________________________________________________________________________________\n",
            "add_3 (Add)                     (None, 38, 38, 256)  0           bn2c_branch2c[0][0]              \n",
            "                                                                 activation_7[0][0]               \n",
            "__________________________________________________________________________________________________\n",
            "activation_10 (Activation)      (None, 38, 38, 256)  0           add_3[0][0]                      \n",
            "__________________________________________________________________________________________________\n",
            "res3a_branch2a (Conv2D)         (None, 19, 19, 128)  32896       activation_10[0][0]              \n",
            "__________________________________________________________________________________________________\n",
            "bn3a_branch2a (BatchNormalizati (None, 19, 19, 128)  512         res3a_branch2a[0][0]             \n",
            "__________________________________________________________________________________________________\n",
            "activation_11 (Activation)      (None, 19, 19, 128)  0           bn3a_branch2a[0][0]              \n",
            "__________________________________________________________________________________________________\n",
            "res3a_branch2b (Conv2D)         (None, 19, 19, 128)  147584      activation_11[0][0]              \n",
            "__________________________________________________________________________________________________\n",
            "bn3a_branch2b (BatchNormalizati (None, 19, 19, 128)  512         res3a_branch2b[0][0]             \n",
            "__________________________________________________________________________________________________\n",
            "activation_12 (Activation)      (None, 19, 19, 128)  0           bn3a_branch2b[0][0]              \n",
            "__________________________________________________________________________________________________\n",
            "res3a_branch2c (Conv2D)         (None, 19, 19, 512)  66048       activation_12[0][0]              \n",
            "__________________________________________________________________________________________________\n",
            "res3a_branch1 (Conv2D)          (None, 19, 19, 512)  131584      activation_10[0][0]              \n",
            "__________________________________________________________________________________________________\n",
            "bn3a_branch2c (BatchNormalizati (None, 19, 19, 512)  2048        res3a_branch2c[0][0]             \n",
            "__________________________________________________________________________________________________\n",
            "bn3a_branch1 (BatchNormalizatio (None, 19, 19, 512)  2048        res3a_branch1[0][0]              \n",
            "__________________________________________________________________________________________________\n",
            "add_4 (Add)                     (None, 19, 19, 512)  0           bn3a_branch2c[0][0]              \n",
            "                                                                 bn3a_branch1[0][0]               \n",
            "__________________________________________________________________________________________________\n",
            "activation_13 (Activation)      (None, 19, 19, 512)  0           add_4[0][0]                      \n",
            "__________________________________________________________________________________________________\n",
            "res3b_branch2a (Conv2D)         (None, 19, 19, 128)  65664       activation_13[0][0]              \n",
            "__________________________________________________________________________________________________\n",
            "bn3b_branch2a (BatchNormalizati (None, 19, 19, 128)  512         res3b_branch2a[0][0]             \n",
            "__________________________________________________________________________________________________\n",
            "activation_14 (Activation)      (None, 19, 19, 128)  0           bn3b_branch2a[0][0]              \n",
            "__________________________________________________________________________________________________\n",
            "res3b_branch2b (Conv2D)         (None, 19, 19, 128)  147584      activation_14[0][0]              \n",
            "__________________________________________________________________________________________________\n",
            "bn3b_branch2b (BatchNormalizati (None, 19, 19, 128)  512         res3b_branch2b[0][0]             \n",
            "__________________________________________________________________________________________________\n",
            "activation_15 (Activation)      (None, 19, 19, 128)  0           bn3b_branch2b[0][0]              \n",
            "__________________________________________________________________________________________________\n",
            "res3b_branch2c (Conv2D)         (None, 19, 19, 512)  66048       activation_15[0][0]              \n",
            "__________________________________________________________________________________________________\n",
            "bn3b_branch2c (BatchNormalizati (None, 19, 19, 512)  2048        res3b_branch2c[0][0]             \n",
            "__________________________________________________________________________________________________\n",
            "add_5 (Add)                     (None, 19, 19, 512)  0           bn3b_branch2c[0][0]              \n",
            "                                                                 activation_13[0][0]              \n",
            "__________________________________________________________________________________________________\n",
            "activation_16 (Activation)      (None, 19, 19, 512)  0           add_5[0][0]                      \n",
            "__________________________________________________________________________________________________\n",
            "res3c_branch2a (Conv2D)         (None, 19, 19, 128)  65664       activation_16[0][0]              \n",
            "__________________________________________________________________________________________________\n",
            "bn3c_branch2a (BatchNormalizati (None, 19, 19, 128)  512         res3c_branch2a[0][0]             \n",
            "__________________________________________________________________________________________________\n",
            "activation_17 (Activation)      (None, 19, 19, 128)  0           bn3c_branch2a[0][0]              \n",
            "__________________________________________________________________________________________________\n",
            "res3c_branch2b (Conv2D)         (None, 19, 19, 128)  147584      activation_17[0][0]              \n",
            "__________________________________________________________________________________________________\n",
            "bn3c_branch2b (BatchNormalizati (None, 19, 19, 128)  512         res3c_branch2b[0][0]             \n",
            "__________________________________________________________________________________________________\n",
            "activation_18 (Activation)      (None, 19, 19, 128)  0           bn3c_branch2b[0][0]              \n",
            "__________________________________________________________________________________________________\n",
            "res3c_branch2c (Conv2D)         (None, 19, 19, 512)  66048       activation_18[0][0]              \n",
            "__________________________________________________________________________________________________\n",
            "bn3c_branch2c (BatchNormalizati (None, 19, 19, 512)  2048        res3c_branch2c[0][0]             \n",
            "__________________________________________________________________________________________________\n",
            "add_6 (Add)                     (None, 19, 19, 512)  0           bn3c_branch2c[0][0]              \n",
            "                                                                 activation_16[0][0]              \n",
            "__________________________________________________________________________________________________\n",
            "activation_19 (Activation)      (None, 19, 19, 512)  0           add_6[0][0]                      \n",
            "__________________________________________________________________________________________________\n",
            "res3d_branch2a (Conv2D)         (None, 19, 19, 128)  65664       activation_19[0][0]              \n",
            "__________________________________________________________________________________________________\n",
            "bn3d_branch2a (BatchNormalizati (None, 19, 19, 128)  512         res3d_branch2a[0][0]             \n",
            "__________________________________________________________________________________________________\n",
            "activation_20 (Activation)      (None, 19, 19, 128)  0           bn3d_branch2a[0][0]              \n",
            "__________________________________________________________________________________________________\n",
            "res3d_branch2b (Conv2D)         (None, 19, 19, 128)  147584      activation_20[0][0]              \n",
            "__________________________________________________________________________________________________\n",
            "bn3d_branch2b (BatchNormalizati (None, 19, 19, 128)  512         res3d_branch2b[0][0]             \n",
            "__________________________________________________________________________________________________\n",
            "activation_21 (Activation)      (None, 19, 19, 128)  0           bn3d_branch2b[0][0]              \n",
            "__________________________________________________________________________________________________\n",
            "res3d_branch2c (Conv2D)         (None, 19, 19, 512)  66048       activation_21[0][0]              \n",
            "__________________________________________________________________________________________________\n",
            "bn3d_branch2c (BatchNormalizati (None, 19, 19, 512)  2048        res3d_branch2c[0][0]             \n",
            "__________________________________________________________________________________________________\n",
            "add_7 (Add)                     (None, 19, 19, 512)  0           bn3d_branch2c[0][0]              \n",
            "                                                                 activation_19[0][0]              \n",
            "__________________________________________________________________________________________________\n",
            "activation_22 (Activation)      (None, 19, 19, 512)  0           add_7[0][0]                      \n",
            "__________________________________________________________________________________________________\n",
            "res4a_branch2a (Conv2D)         (None, 10, 10, 256)  131328      activation_22[0][0]              \n",
            "__________________________________________________________________________________________________\n",
            "bn4a_branch2a (BatchNormalizati (None, 10, 10, 256)  1024        res4a_branch2a[0][0]             \n",
            "__________________________________________________________________________________________________\n",
            "activation_23 (Activation)      (None, 10, 10, 256)  0           bn4a_branch2a[0][0]              \n",
            "__________________________________________________________________________________________________\n",
            "res4a_branch2b (Conv2D)         (None, 10, 10, 256)  590080      activation_23[0][0]              \n",
            "__________________________________________________________________________________________________\n",
            "bn4a_branch2b (BatchNormalizati (None, 10, 10, 256)  1024        res4a_branch2b[0][0]             \n",
            "__________________________________________________________________________________________________\n",
            "activation_24 (Activation)      (None, 10, 10, 256)  0           bn4a_branch2b[0][0]              \n",
            "__________________________________________________________________________________________________\n",
            "res4a_branch2c (Conv2D)         (None, 10, 10, 1024) 263168      activation_24[0][0]              \n",
            "__________________________________________________________________________________________________\n",
            "res4a_branch1 (Conv2D)          (None, 10, 10, 1024) 525312      activation_22[0][0]              \n",
            "__________________________________________________________________________________________________\n",
            "bn4a_branch2c (BatchNormalizati (None, 10, 10, 1024) 4096        res4a_branch2c[0][0]             \n",
            "__________________________________________________________________________________________________\n",
            "bn4a_branch1 (BatchNormalizatio (None, 10, 10, 1024) 4096        res4a_branch1[0][0]              \n",
            "__________________________________________________________________________________________________\n",
            "add_8 (Add)                     (None, 10, 10, 1024) 0           bn4a_branch2c[0][0]              \n",
            "                                                                 bn4a_branch1[0][0]               \n",
            "__________________________________________________________________________________________________\n",
            "activation_25 (Activation)      (None, 10, 10, 1024) 0           add_8[0][0]                      \n",
            "__________________________________________________________________________________________________\n",
            "res4b_branch2a (Conv2D)         (None, 10, 10, 256)  262400      activation_25[0][0]              \n",
            "__________________________________________________________________________________________________\n",
            "bn4b_branch2a (BatchNormalizati (None, 10, 10, 256)  1024        res4b_branch2a[0][0]             \n",
            "__________________________________________________________________________________________________\n",
            "activation_26 (Activation)      (None, 10, 10, 256)  0           bn4b_branch2a[0][0]              \n",
            "__________________________________________________________________________________________________\n",
            "res4b_branch2b (Conv2D)         (None, 10, 10, 256)  590080      activation_26[0][0]              \n",
            "__________________________________________________________________________________________________\n",
            "bn4b_branch2b (BatchNormalizati (None, 10, 10, 256)  1024        res4b_branch2b[0][0]             \n",
            "__________________________________________________________________________________________________\n",
            "activation_27 (Activation)      (None, 10, 10, 256)  0           bn4b_branch2b[0][0]              \n",
            "__________________________________________________________________________________________________\n",
            "res4b_branch2c (Conv2D)         (None, 10, 10, 1024) 263168      activation_27[0][0]              \n",
            "__________________________________________________________________________________________________\n",
            "bn4b_branch2c (BatchNormalizati (None, 10, 10, 1024) 4096        res4b_branch2c[0][0]             \n",
            "__________________________________________________________________________________________________\n",
            "add_9 (Add)                     (None, 10, 10, 1024) 0           bn4b_branch2c[0][0]              \n",
            "                                                                 activation_25[0][0]              \n",
            "__________________________________________________________________________________________________\n",
            "activation_28 (Activation)      (None, 10, 10, 1024) 0           add_9[0][0]                      \n",
            "__________________________________________________________________________________________________\n",
            "res4c_branch2a (Conv2D)         (None, 10, 10, 256)  262400      activation_28[0][0]              \n",
            "__________________________________________________________________________________________________\n",
            "bn4c_branch2a (BatchNormalizati (None, 10, 10, 256)  1024        res4c_branch2a[0][0]             \n",
            "__________________________________________________________________________________________________\n",
            "activation_29 (Activation)      (None, 10, 10, 256)  0           bn4c_branch2a[0][0]              \n",
            "__________________________________________________________________________________________________\n",
            "res4c_branch2b (Conv2D)         (None, 10, 10, 256)  590080      activation_29[0][0]              \n",
            "__________________________________________________________________________________________________\n",
            "bn4c_branch2b (BatchNormalizati (None, 10, 10, 256)  1024        res4c_branch2b[0][0]             \n",
            "__________________________________________________________________________________________________\n",
            "activation_30 (Activation)      (None, 10, 10, 256)  0           bn4c_branch2b[0][0]              \n",
            "__________________________________________________________________________________________________\n",
            "res4c_branch2c (Conv2D)         (None, 10, 10, 1024) 263168      activation_30[0][0]              \n",
            "__________________________________________________________________________________________________\n",
            "bn4c_branch2c (BatchNormalizati (None, 10, 10, 1024) 4096        res4c_branch2c[0][0]             \n",
            "__________________________________________________________________________________________________\n",
            "add_10 (Add)                    (None, 10, 10, 1024) 0           bn4c_branch2c[0][0]              \n",
            "                                                                 activation_28[0][0]              \n",
            "__________________________________________________________________________________________________\n",
            "activation_31 (Activation)      (None, 10, 10, 1024) 0           add_10[0][0]                     \n",
            "__________________________________________________________________________________________________\n",
            "res4d_branch2a (Conv2D)         (None, 10, 10, 256)  262400      activation_31[0][0]              \n",
            "__________________________________________________________________________________________________\n",
            "bn4d_branch2a (BatchNormalizati (None, 10, 10, 256)  1024        res4d_branch2a[0][0]             \n",
            "__________________________________________________________________________________________________\n",
            "activation_32 (Activation)      (None, 10, 10, 256)  0           bn4d_branch2a[0][0]              \n",
            "__________________________________________________________________________________________________\n",
            "res4d_branch2b (Conv2D)         (None, 10, 10, 256)  590080      activation_32[0][0]              \n",
            "__________________________________________________________________________________________________\n",
            "bn4d_branch2b (BatchNormalizati (None, 10, 10, 256)  1024        res4d_branch2b[0][0]             \n",
            "__________________________________________________________________________________________________\n",
            "activation_33 (Activation)      (None, 10, 10, 256)  0           bn4d_branch2b[0][0]              \n",
            "__________________________________________________________________________________________________\n",
            "res4d_branch2c (Conv2D)         (None, 10, 10, 1024) 263168      activation_33[0][0]              \n",
            "__________________________________________________________________________________________________\n",
            "bn4d_branch2c (BatchNormalizati (None, 10, 10, 1024) 4096        res4d_branch2c[0][0]             \n",
            "__________________________________________________________________________________________________\n",
            "add_11 (Add)                    (None, 10, 10, 1024) 0           bn4d_branch2c[0][0]              \n",
            "                                                                 activation_31[0][0]              \n",
            "__________________________________________________________________________________________________\n",
            "activation_34 (Activation)      (None, 10, 10, 1024) 0           add_11[0][0]                     \n",
            "__________________________________________________________________________________________________\n",
            "res4e_branch2a (Conv2D)         (None, 10, 10, 256)  262400      activation_34[0][0]              \n",
            "__________________________________________________________________________________________________\n",
            "bn4e_branch2a (BatchNormalizati (None, 10, 10, 256)  1024        res4e_branch2a[0][0]             \n",
            "__________________________________________________________________________________________________\n",
            "activation_35 (Activation)      (None, 10, 10, 256)  0           bn4e_branch2a[0][0]              \n",
            "__________________________________________________________________________________________________\n",
            "res4e_branch2b (Conv2D)         (None, 10, 10, 256)  590080      activation_35[0][0]              \n",
            "__________________________________________________________________________________________________\n",
            "bn4e_branch2b (BatchNormalizati (None, 10, 10, 256)  1024        res4e_branch2b[0][0]             \n",
            "__________________________________________________________________________________________________\n",
            "activation_36 (Activation)      (None, 10, 10, 256)  0           bn4e_branch2b[0][0]              \n",
            "__________________________________________________________________________________________________\n",
            "res4e_branch2c (Conv2D)         (None, 10, 10, 1024) 263168      activation_36[0][0]              \n",
            "__________________________________________________________________________________________________\n",
            "bn4e_branch2c (BatchNormalizati (None, 10, 10, 1024) 4096        res4e_branch2c[0][0]             \n",
            "__________________________________________________________________________________________________\n",
            "add_12 (Add)                    (None, 10, 10, 1024) 0           bn4e_branch2c[0][0]              \n",
            "                                                                 activation_34[0][0]              \n",
            "__________________________________________________________________________________________________\n",
            "activation_37 (Activation)      (None, 10, 10, 1024) 0           add_12[0][0]                     \n",
            "__________________________________________________________________________________________________\n",
            "res4f_branch2a (Conv2D)         (None, 10, 10, 256)  262400      activation_37[0][0]              \n",
            "__________________________________________________________________________________________________\n",
            "bn4f_branch2a (BatchNormalizati (None, 10, 10, 256)  1024        res4f_branch2a[0][0]             \n",
            "__________________________________________________________________________________________________\n",
            "activation_38 (Activation)      (None, 10, 10, 256)  0           bn4f_branch2a[0][0]              \n",
            "__________________________________________________________________________________________________\n",
            "res4f_branch2b (Conv2D)         (None, 10, 10, 256)  590080      activation_38[0][0]              \n",
            "__________________________________________________________________________________________________\n",
            "bn4f_branch2b (BatchNormalizati (None, 10, 10, 256)  1024        res4f_branch2b[0][0]             \n",
            "__________________________________________________________________________________________________\n",
            "activation_39 (Activation)      (None, 10, 10, 256)  0           bn4f_branch2b[0][0]              \n",
            "__________________________________________________________________________________________________\n",
            "res4f_branch2c (Conv2D)         (None, 10, 10, 1024) 263168      activation_39[0][0]              \n",
            "__________________________________________________________________________________________________\n",
            "bn4f_branch2c (BatchNormalizati (None, 10, 10, 1024) 4096        res4f_branch2c[0][0]             \n",
            "__________________________________________________________________________________________________\n",
            "add_13 (Add)                    (None, 10, 10, 1024) 0           bn4f_branch2c[0][0]              \n",
            "                                                                 activation_37[0][0]              \n",
            "__________________________________________________________________________________________________\n",
            "activation_40 (Activation)      (None, 10, 10, 1024) 0           add_13[0][0]                     \n",
            "__________________________________________________________________________________________________\n",
            "res5a_branch2a (Conv2D)         (None, 5, 5, 512)    524800      activation_40[0][0]              \n",
            "__________________________________________________________________________________________________\n",
            "bn5a_branch2a (BatchNormalizati (None, 5, 5, 512)    2048        res5a_branch2a[0][0]             \n",
            "__________________________________________________________________________________________________\n",
            "activation_41 (Activation)      (None, 5, 5, 512)    0           bn5a_branch2a[0][0]              \n",
            "__________________________________________________________________________________________________\n",
            "res5a_branch2b (Conv2D)         (None, 5, 5, 512)    2359808     activation_41[0][0]              \n",
            "__________________________________________________________________________________________________\n",
            "bn5a_branch2b (BatchNormalizati (None, 5, 5, 512)    2048        res5a_branch2b[0][0]             \n",
            "__________________________________________________________________________________________________\n",
            "activation_42 (Activation)      (None, 5, 5, 512)    0           bn5a_branch2b[0][0]              \n",
            "__________________________________________________________________________________________________\n",
            "res5a_branch2c (Conv2D)         (None, 5, 5, 2048)   1050624     activation_42[0][0]              \n",
            "__________________________________________________________________________________________________\n",
            "res5a_branch1 (Conv2D)          (None, 5, 5, 2048)   2099200     activation_40[0][0]              \n",
            "__________________________________________________________________________________________________\n",
            "bn5a_branch2c (BatchNormalizati (None, 5, 5, 2048)   8192        res5a_branch2c[0][0]             \n",
            "__________________________________________________________________________________________________\n",
            "bn5a_branch1 (BatchNormalizatio (None, 5, 5, 2048)   8192        res5a_branch1[0][0]              \n",
            "__________________________________________________________________________________________________\n",
            "add_14 (Add)                    (None, 5, 5, 2048)   0           bn5a_branch2c[0][0]              \n",
            "                                                                 bn5a_branch1[0][0]               \n",
            "__________________________________________________________________________________________________\n",
            "activation_43 (Activation)      (None, 5, 5, 2048)   0           add_14[0][0]                     \n",
            "__________________________________________________________________________________________________\n",
            "res5b_branch2a (Conv2D)         (None, 5, 5, 512)    1049088     activation_43[0][0]              \n",
            "__________________________________________________________________________________________________\n",
            "bn5b_branch2a (BatchNormalizati (None, 5, 5, 512)    2048        res5b_branch2a[0][0]             \n",
            "__________________________________________________________________________________________________\n",
            "activation_44 (Activation)      (None, 5, 5, 512)    0           bn5b_branch2a[0][0]              \n",
            "__________________________________________________________________________________________________\n",
            "res5b_branch2b (Conv2D)         (None, 5, 5, 512)    2359808     activation_44[0][0]              \n",
            "__________________________________________________________________________________________________\n",
            "bn5b_branch2b (BatchNormalizati (None, 5, 5, 512)    2048        res5b_branch2b[0][0]             \n",
            "__________________________________________________________________________________________________\n",
            "activation_45 (Activation)      (None, 5, 5, 512)    0           bn5b_branch2b[0][0]              \n",
            "__________________________________________________________________________________________________\n",
            "res5b_branch2c (Conv2D)         (None, 5, 5, 2048)   1050624     activation_45[0][0]              \n",
            "__________________________________________________________________________________________________\n",
            "bn5b_branch2c (BatchNormalizati (None, 5, 5, 2048)   8192        res5b_branch2c[0][0]             \n",
            "__________________________________________________________________________________________________\n",
            "add_15 (Add)                    (None, 5, 5, 2048)   0           bn5b_branch2c[0][0]              \n",
            "                                                                 activation_43[0][0]              \n",
            "__________________________________________________________________________________________________\n",
            "activation_46 (Activation)      (None, 5, 5, 2048)   0           add_15[0][0]                     \n",
            "__________________________________________________________________________________________________\n",
            "res5c_branch2a (Conv2D)         (None, 5, 5, 512)    1049088     activation_46[0][0]              \n",
            "__________________________________________________________________________________________________\n",
            "bn5c_branch2a (BatchNormalizati (None, 5, 5, 512)    2048        res5c_branch2a[0][0]             \n",
            "__________________________________________________________________________________________________\n",
            "activation_47 (Activation)      (None, 5, 5, 512)    0           bn5c_branch2a[0][0]              \n",
            "__________________________________________________________________________________________________\n",
            "res5c_branch2b (Conv2D)         (None, 5, 5, 512)    2359808     activation_47[0][0]              \n",
            "__________________________________________________________________________________________________\n",
            "bn5c_branch2b (BatchNormalizati (None, 5, 5, 512)    2048        res5c_branch2b[0][0]             \n",
            "__________________________________________________________________________________________________\n",
            "activation_48 (Activation)      (None, 5, 5, 512)    0           bn5c_branch2b[0][0]              \n",
            "__________________________________________________________________________________________________\n",
            "res5c_branch2c (Conv2D)         (None, 5, 5, 2048)   1050624     activation_48[0][0]              \n",
            "__________________________________________________________________________________________________\n",
            "bn5c_branch2c (BatchNormalizati (None, 5, 5, 2048)   8192        res5c_branch2c[0][0]             \n",
            "__________________________________________________________________________________________________\n",
            "add_16 (Add)                    (None, 5, 5, 2048)   0           bn5c_branch2c[0][0]              \n",
            "                                                                 activation_46[0][0]              \n",
            "__________________________________________________________________________________________________\n",
            "activation_49 (Activation)      (None, 5, 5, 2048)   0           add_16[0][0]                     \n",
            "==================================================================================================\n",
            "Total params: 23,587,712\n",
            "Trainable params: 23,520,704\n",
            "Non-trainable params: 67,008\n",
            "__________________________________________________________________________________________________\n"
          ],
          "name": "stdout"
        }
      ]
    },
    {
      "cell_type": "code",
      "metadata": {
        "id": "DyN-J7rs9cvo",
        "colab_type": "code",
        "outputId": "304cc118-588a-45df-bf7d-f13f6f213d36",
        "colab": {
          "base_uri": "https://localhost:8080/",
          "height": 1000
        }
      },
      "source": [
        "# compile model\n",
        "\n",
        "model.compile(\n",
        "    loss='binary_crossentropy',\n",
        "    #\n",
        "    # choose a smaller learning rate\n",
        "    #\n",
        "    optimizer=optimizers.RMSprop(lr=1e-5), \n",
        "    metrics=['acc'])\n",
        "\n",
        "# train\n",
        "\n",
        "history = model.fit_generator(\n",
        "    train_generator,\n",
        "    steps_per_epoch=100,\n",
        "    epochs=100,\n",
        "    validation_data=validation_generator,\n",
        "    validation_steps=50)"
      ],
      "execution_count": 14,
      "outputs": [
        {
          "output_type": "stream",
          "text": [
            "Epoch 1/100\n",
            "100/100 [==============================] - 34s 337ms/step - loss: 0.1094 - acc: 0.9635 - val_loss: 2.9048 - val_acc: 0.4470\n",
            "Epoch 2/100\n",
            "100/100 [==============================] - 21s 214ms/step - loss: 0.0818 - acc: 0.9720 - val_loss: 2.9045 - val_acc: 0.4830\n",
            "Epoch 3/100\n",
            "100/100 [==============================] - 22s 215ms/step - loss: 0.0791 - acc: 0.9680 - val_loss: 1.7938 - val_acc: 0.5570\n",
            "Epoch 4/100\n",
            "100/100 [==============================] - 21s 214ms/step - loss: 0.0800 - acc: 0.9680 - val_loss: 0.9517 - val_acc: 0.6520\n",
            "Epoch 5/100\n",
            "100/100 [==============================] - 21s 215ms/step - loss: 0.0681 - acc: 0.9780 - val_loss: 1.3068 - val_acc: 0.8100\n",
            "Epoch 6/100\n",
            "100/100 [==============================] - 21s 213ms/step - loss: 0.0610 - acc: 0.9790 - val_loss: 0.6586 - val_acc: 0.8990\n",
            "Epoch 7/100\n",
            "100/100 [==============================] - 21s 214ms/step - loss: 0.0542 - acc: 0.9800 - val_loss: 0.0011 - val_acc: 0.9350\n",
            "Epoch 8/100\n",
            "100/100 [==============================] - 21s 214ms/step - loss: 0.0703 - acc: 0.9755 - val_loss: 6.8113e-04 - val_acc: 0.9590\n",
            "Epoch 9/100\n",
            "100/100 [==============================] - 21s 212ms/step - loss: 0.0663 - acc: 0.9760 - val_loss: 0.1409 - val_acc: 0.9640\n",
            "Epoch 10/100\n",
            "100/100 [==============================] - 21s 213ms/step - loss: 0.0544 - acc: 0.9770 - val_loss: 0.0263 - val_acc: 0.9630\n",
            "Epoch 11/100\n",
            "100/100 [==============================] - 22s 216ms/step - loss: 0.0432 - acc: 0.9820 - val_loss: 0.0629 - val_acc: 0.9690\n",
            "Epoch 12/100\n",
            "100/100 [==============================] - 21s 213ms/step - loss: 0.0522 - acc: 0.9825 - val_loss: 0.6653 - val_acc: 0.9670\n",
            "Epoch 13/100\n",
            "100/100 [==============================] - 21s 214ms/step - loss: 0.0494 - acc: 0.9845 - val_loss: 0.0029 - val_acc: 0.9660\n",
            "Epoch 14/100\n",
            "100/100 [==============================] - 21s 214ms/step - loss: 0.0401 - acc: 0.9860 - val_loss: 4.1768e-05 - val_acc: 0.9710\n",
            "Epoch 15/100\n",
            "100/100 [==============================] - 21s 214ms/step - loss: 0.0444 - acc: 0.9830 - val_loss: 0.2277 - val_acc: 0.9680\n",
            "Epoch 16/100\n",
            "100/100 [==============================] - 21s 213ms/step - loss: 0.0459 - acc: 0.9830 - val_loss: 0.0070 - val_acc: 0.9670\n",
            "Epoch 17/100\n",
            "100/100 [==============================] - 21s 213ms/step - loss: 0.0475 - acc: 0.9840 - val_loss: 0.1193 - val_acc: 0.9630\n",
            "Epoch 18/100\n",
            "100/100 [==============================] - 21s 213ms/step - loss: 0.0425 - acc: 0.9860 - val_loss: 9.3765e-04 - val_acc: 0.9640\n",
            "Epoch 19/100\n",
            "100/100 [==============================] - 21s 214ms/step - loss: 0.0374 - acc: 0.9895 - val_loss: 0.0311 - val_acc: 0.9690\n",
            "Epoch 20/100\n",
            "100/100 [==============================] - 21s 214ms/step - loss: 0.0275 - acc: 0.9915 - val_loss: 0.3729 - val_acc: 0.9720\n",
            "Epoch 21/100\n",
            "100/100 [==============================] - 21s 213ms/step - loss: 0.0390 - acc: 0.9855 - val_loss: 0.0929 - val_acc: 0.9690\n",
            "Epoch 22/100\n",
            "100/100 [==============================] - 21s 213ms/step - loss: 0.0334 - acc: 0.9890 - val_loss: 1.2941e-04 - val_acc: 0.9720\n",
            "Epoch 23/100\n",
            "100/100 [==============================] - 21s 213ms/step - loss: 0.0391 - acc: 0.9860 - val_loss: 0.0062 - val_acc: 0.9710\n",
            "Epoch 24/100\n",
            "100/100 [==============================] - 21s 213ms/step - loss: 0.0275 - acc: 0.9910 - val_loss: 0.2065 - val_acc: 0.9680\n",
            "Epoch 25/100\n",
            "100/100 [==============================] - 21s 213ms/step - loss: 0.0279 - acc: 0.9895 - val_loss: 3.3927e-06 - val_acc: 0.9700\n",
            "Epoch 26/100\n",
            "100/100 [==============================] - 21s 214ms/step - loss: 0.0338 - acc: 0.9930 - val_loss: 0.0138 - val_acc: 0.9700\n",
            "Epoch 27/100\n",
            "100/100 [==============================] - 21s 213ms/step - loss: 0.0286 - acc: 0.9920 - val_loss: 0.0012 - val_acc: 0.9690\n",
            "Epoch 28/100\n",
            "100/100 [==============================] - 21s 213ms/step - loss: 0.0324 - acc: 0.9905 - val_loss: 8.9018e-05 - val_acc: 0.9700\n",
            "Epoch 29/100\n",
            "100/100 [==============================] - 21s 213ms/step - loss: 0.0327 - acc: 0.9900 - val_loss: 0.1038 - val_acc: 0.9730\n",
            "Epoch 30/100\n",
            "100/100 [==============================] - 21s 214ms/step - loss: 0.0256 - acc: 0.9925 - val_loss: 0.2481 - val_acc: 0.9720\n",
            "Epoch 31/100\n",
            "100/100 [==============================] - 21s 213ms/step - loss: 0.0245 - acc: 0.9935 - val_loss: 0.0034 - val_acc: 0.9750\n",
            "Epoch 32/100\n",
            "100/100 [==============================] - 21s 213ms/step - loss: 0.0331 - acc: 0.9910 - val_loss: 0.0122 - val_acc: 0.9730\n",
            "Epoch 33/100\n",
            "100/100 [==============================] - 21s 213ms/step - loss: 0.0234 - acc: 0.9915 - val_loss: 0.0997 - val_acc: 0.9740\n",
            "Epoch 34/100\n",
            "100/100 [==============================] - 21s 214ms/step - loss: 0.0230 - acc: 0.9935 - val_loss: 5.8165e-06 - val_acc: 0.9750\n",
            "Epoch 35/100\n",
            "100/100 [==============================] - 21s 213ms/step - loss: 0.0328 - acc: 0.9915 - val_loss: 0.0056 - val_acc: 0.9740\n",
            "Epoch 36/100\n",
            "100/100 [==============================] - 21s 212ms/step - loss: 0.0317 - acc: 0.9920 - val_loss: 0.2757 - val_acc: 0.9700\n",
            "Epoch 37/100\n",
            "100/100 [==============================] - 21s 213ms/step - loss: 0.0293 - acc: 0.9915 - val_loss: 0.0016 - val_acc: 0.9660\n",
            "Epoch 38/100\n",
            "100/100 [==============================] - 21s 213ms/step - loss: 0.0266 - acc: 0.9915 - val_loss: 1.6745e-05 - val_acc: 0.9680\n",
            "Epoch 39/100\n",
            "100/100 [==============================] - 21s 213ms/step - loss: 0.0177 - acc: 0.9930 - val_loss: 0.0307 - val_acc: 0.9690\n",
            "Epoch 40/100\n",
            "100/100 [==============================] - 21s 215ms/step - loss: 0.0156 - acc: 0.9945 - val_loss: 0.5810 - val_acc: 0.9680\n",
            "Epoch 41/100\n",
            "100/100 [==============================] - 21s 214ms/step - loss: 0.0256 - acc: 0.9955 - val_loss: 0.0781 - val_acc: 0.9650\n",
            "Epoch 42/100\n",
            "100/100 [==============================] - 21s 214ms/step - loss: 0.0274 - acc: 0.9925 - val_loss: 1.4943e-06 - val_acc: 0.9740\n",
            "Epoch 43/100\n",
            "100/100 [==============================] - 21s 214ms/step - loss: 0.0192 - acc: 0.9925 - val_loss: 0.0020 - val_acc: 0.9760\n",
            "Epoch 44/100\n",
            "100/100 [==============================] - 21s 213ms/step - loss: 0.0116 - acc: 0.9955 - val_loss: 2.6871e-04 - val_acc: 0.9730\n",
            "Epoch 45/100\n",
            "100/100 [==============================] - 21s 214ms/step - loss: 0.0213 - acc: 0.9940 - val_loss: 2.2495e-05 - val_acc: 0.9740\n",
            "Epoch 46/100\n",
            "100/100 [==============================] - 21s 213ms/step - loss: 0.0229 - acc: 0.9925 - val_loss: 0.4789 - val_acc: 0.9730\n",
            "Epoch 47/100\n",
            "100/100 [==============================] - 21s 214ms/step - loss: 0.0219 - acc: 0.9955 - val_loss: 0.2123 - val_acc: 0.9670\n",
            "Epoch 48/100\n",
            "100/100 [==============================] - 21s 213ms/step - loss: 0.0198 - acc: 0.9950 - val_loss: 0.4346 - val_acc: 0.9690\n",
            "Epoch 49/100\n",
            "100/100 [==============================] - 21s 215ms/step - loss: 0.0159 - acc: 0.9940 - val_loss: 0.0670 - val_acc: 0.9780\n",
            "Epoch 50/100\n",
            "100/100 [==============================] - 21s 213ms/step - loss: 0.0176 - acc: 0.9950 - val_loss: 9.4272e-06 - val_acc: 0.9710\n",
            "Epoch 51/100\n",
            "100/100 [==============================] - 21s 212ms/step - loss: 0.0142 - acc: 0.9950 - val_loss: 0.0759 - val_acc: 0.9750\n",
            "Epoch 52/100\n",
            "100/100 [==============================] - 21s 214ms/step - loss: 0.0166 - acc: 0.9930 - val_loss: 0.2642 - val_acc: 0.9770\n",
            "Epoch 53/100\n",
            "100/100 [==============================] - 21s 215ms/step - loss: 0.0292 - acc: 0.9925 - val_loss: 0.0023 - val_acc: 0.9690\n",
            "Epoch 54/100\n",
            "100/100 [==============================] - 21s 214ms/step - loss: 0.0160 - acc: 0.9945 - val_loss: 4.3734e-07 - val_acc: 0.9720\n",
            "Epoch 55/100\n",
            "100/100 [==============================] - 21s 214ms/step - loss: 0.0186 - acc: 0.9920 - val_loss: 0.0082 - val_acc: 0.9730\n",
            "Epoch 56/100\n",
            "100/100 [==============================] - 21s 214ms/step - loss: 0.0162 - acc: 0.9945 - val_loss: 1.9755e-06 - val_acc: 0.9770\n",
            "Epoch 57/100\n",
            "100/100 [==============================] - 21s 213ms/step - loss: 0.0174 - acc: 0.9955 - val_loss: 0.0082 - val_acc: 0.9760\n",
            "Epoch 58/100\n",
            "100/100 [==============================] - 21s 212ms/step - loss: 0.0111 - acc: 0.9950 - val_loss: 0.0023 - val_acc: 0.9760\n",
            "Epoch 59/100\n",
            "100/100 [==============================] - 21s 212ms/step - loss: 0.0189 - acc: 0.9965 - val_loss: 0.0932 - val_acc: 0.9740\n",
            "Epoch 60/100\n",
            "100/100 [==============================] - 21s 213ms/step - loss: 0.0305 - acc: 0.9945 - val_loss: 0.0310 - val_acc: 0.9800\n",
            "Epoch 61/100\n",
            "100/100 [==============================] - 21s 213ms/step - loss: 0.0127 - acc: 0.9965 - val_loss: 0.0611 - val_acc: 0.9770\n",
            "Epoch 62/100\n",
            "100/100 [==============================] - 21s 212ms/step - loss: 0.0233 - acc: 0.9970 - val_loss: 0.0155 - val_acc: 0.9760\n",
            "Epoch 63/100\n",
            "100/100 [==============================] - 21s 213ms/step - loss: 0.0131 - acc: 0.9955 - val_loss: 0.3171 - val_acc: 0.9760\n",
            "Epoch 64/100\n",
            "100/100 [==============================] - 21s 213ms/step - loss: 0.0207 - acc: 0.9955 - val_loss: 0.0162 - val_acc: 0.9770\n",
            "Epoch 65/100\n",
            "100/100 [==============================] - 21s 211ms/step - loss: 0.0125 - acc: 0.9950 - val_loss: 7.0301e-05 - val_acc: 0.9750\n",
            "Epoch 66/100\n",
            "100/100 [==============================] - 21s 213ms/step - loss: 0.0095 - acc: 0.9965 - val_loss: 0.6713 - val_acc: 0.9730\n",
            "Epoch 67/100\n",
            "100/100 [==============================] - 21s 212ms/step - loss: 0.0143 - acc: 0.9955 - val_loss: 0.5423 - val_acc: 0.9720\n",
            "Epoch 68/100\n",
            "100/100 [==============================] - 21s 213ms/step - loss: 0.0032 - acc: 0.9990 - val_loss: 0.0044 - val_acc: 0.9770\n",
            "Epoch 69/100\n",
            "100/100 [==============================] - 21s 215ms/step - loss: 0.0054 - acc: 0.9970 - val_loss: 5.4214e-07 - val_acc: 0.9750\n",
            "Epoch 70/100\n",
            "100/100 [==============================] - 21s 212ms/step - loss: 0.0268 - acc: 0.9940 - val_loss: 0.0060 - val_acc: 0.9760\n",
            "Epoch 71/100\n",
            "100/100 [==============================] - 21s 214ms/step - loss: 0.0072 - acc: 0.9970 - val_loss: 0.3729 - val_acc: 0.9770\n",
            "Epoch 72/100\n",
            "100/100 [==============================] - 21s 214ms/step - loss: 0.0092 - acc: 0.9970 - val_loss: 1.1663 - val_acc: 0.9760\n",
            "Epoch 73/100\n",
            "100/100 [==============================] - 21s 214ms/step - loss: 0.0147 - acc: 0.9970 - val_loss: 0.0024 - val_acc: 0.9730\n",
            "Epoch 74/100\n",
            "100/100 [==============================] - 21s 213ms/step - loss: 0.0063 - acc: 0.9980 - val_loss: 1.3345 - val_acc: 0.9780\n",
            "Epoch 75/100\n",
            "100/100 [==============================] - 21s 213ms/step - loss: 0.0199 - acc: 0.9960 - val_loss: 1.8842e-06 - val_acc: 0.9750\n",
            "Epoch 76/100\n",
            "100/100 [==============================] - 21s 213ms/step - loss: 0.0129 - acc: 0.9980 - val_loss: 0.0013 - val_acc: 0.9760\n",
            "Epoch 77/100\n",
            "100/100 [==============================] - 21s 213ms/step - loss: 0.0183 - acc: 0.9960 - val_loss: 8.2530e-05 - val_acc: 0.9750\n",
            "Epoch 78/100\n",
            "100/100 [==============================] - 21s 212ms/step - loss: 0.0110 - acc: 0.9970 - val_loss: 3.5548e-06 - val_acc: 0.9770\n",
            "Epoch 79/100\n",
            "100/100 [==============================] - 21s 214ms/step - loss: 0.0126 - acc: 0.9980 - val_loss: 1.0650 - val_acc: 0.9780\n",
            "Epoch 80/100\n",
            "100/100 [==============================] - 21s 212ms/step - loss: 0.0159 - acc: 0.9985 - val_loss: 0.3249 - val_acc: 0.9760\n",
            "Epoch 81/100\n",
            "100/100 [==============================] - 21s 213ms/step - loss: 0.0163 - acc: 0.9980 - val_loss: 0.3709 - val_acc: 0.9790\n",
            "Epoch 82/100\n",
            "100/100 [==============================] - 21s 213ms/step - loss: 0.0074 - acc: 0.9985 - val_loss: 4.1325e-06 - val_acc: 0.9710\n",
            "Epoch 83/100\n",
            "100/100 [==============================] - 21s 214ms/step - loss: 0.0143 - acc: 0.9965 - val_loss: 0.8825 - val_acc: 0.9750\n",
            "Epoch 84/100\n",
            "100/100 [==============================] - 21s 213ms/step - loss: 0.0171 - acc: 0.9950 - val_loss: 1.5301e-06 - val_acc: 0.9760\n",
            "Epoch 85/100\n",
            "100/100 [==============================] - 21s 214ms/step - loss: 0.0192 - acc: 0.9945 - val_loss: 0.5486 - val_acc: 0.9730\n",
            "Epoch 86/100\n",
            "100/100 [==============================] - 21s 213ms/step - loss: 0.0026 - acc: 0.9985 - val_loss: 0.0021 - val_acc: 0.9690\n",
            "Epoch 87/100\n",
            "100/100 [==============================] - 21s 214ms/step - loss: 0.0062 - acc: 0.9985 - val_loss: 0.3418 - val_acc: 0.9690\n",
            "Epoch 88/100\n",
            "100/100 [==============================] - 21s 213ms/step - loss: 0.0101 - acc: 0.9975 - val_loss: 0.0265 - val_acc: 0.9710\n",
            "Epoch 89/100\n",
            "100/100 [==============================] - 21s 213ms/step - loss: 0.0052 - acc: 0.9975 - val_loss: 0.4503 - val_acc: 0.9730\n",
            "Epoch 90/100\n",
            "100/100 [==============================] - 21s 213ms/step - loss: 0.0091 - acc: 0.9975 - val_loss: 0.0614 - val_acc: 0.9710\n",
            "Epoch 91/100\n",
            "100/100 [==============================] - 21s 213ms/step - loss: 0.0055 - acc: 0.9975 - val_loss: 0.0053 - val_acc: 0.9700\n",
            "Epoch 92/100\n",
            "100/100 [==============================] - 21s 213ms/step - loss: 0.0052 - acc: 0.9975 - val_loss: 0.1486 - val_acc: 0.9720\n",
            "Epoch 93/100\n",
            "100/100 [==============================] - 21s 211ms/step - loss: 0.0162 - acc: 0.9950 - val_loss: 3.1619e-04 - val_acc: 0.9740\n",
            "Epoch 94/100\n",
            "100/100 [==============================] - 21s 212ms/step - loss: 0.0017 - acc: 0.9995 - val_loss: 0.0637 - val_acc: 0.9690\n",
            "Epoch 95/100\n",
            "100/100 [==============================] - 21s 213ms/step - loss: 0.0093 - acc: 0.9975 - val_loss: 0.0139 - val_acc: 0.9730\n",
            "Epoch 96/100\n",
            "100/100 [==============================] - 21s 213ms/step - loss: 0.0075 - acc: 0.9970 - val_loss: 0.0667 - val_acc: 0.9710\n",
            "Epoch 97/100\n",
            "100/100 [==============================] - 21s 212ms/step - loss: 0.0097 - acc: 0.9960 - val_loss: 0.1235 - val_acc: 0.9700\n",
            "Epoch 98/100\n",
            "100/100 [==============================] - 21s 214ms/step - loss: 0.0094 - acc: 0.9980 - val_loss: 0.0103 - val_acc: 0.9720\n",
            "Epoch 99/100\n",
            "100/100 [==============================] - 21s 213ms/step - loss: 0.0165 - acc: 0.9990 - val_loss: 4.6199e-04 - val_acc: 0.9700\n",
            "Epoch 100/100\n",
            "100/100 [==============================] - 21s 212ms/step - loss: 0.0058 - acc: 0.9985 - val_loss: 0.1162 - val_acc: 0.9720\n"
          ],
          "name": "stdout"
        }
      ]
    },
    {
      "cell_type": "markdown",
      "metadata": {
        "id": "eVBQgh5M-Rtz",
        "colab_type": "text"
      },
      "source": [
        "## Display learning curves during fine-tuning"
      ]
    },
    {
      "cell_type": "code",
      "metadata": {
        "id": "mbkIw7Ie-NP4",
        "colab_type": "code",
        "outputId": "466f5484-3a59-40a1-a77f-f5830957ec44",
        "colab": {
          "base_uri": "https://localhost:8080/",
          "height": 545
        }
      },
      "source": [
        "%matplotlib inline\n",
        "\n",
        "import matplotlib.pyplot as plt\n",
        "\n",
        "acc = history.history['acc']\n",
        "val_acc = history.history['val_acc']\n",
        "\n",
        "loss = history.history['loss']\n",
        "val_loss = history.history['val_loss']\n",
        "\n",
        "epochs = range(1, len(acc) + 1)\n",
        "\n",
        "# training and validation accuracy\n",
        "\n",
        "plt.plot(epochs, acc, 'bo', label='training acc')\n",
        "plt.plot(epochs, val_acc, 'b', label='validation acc')\n",
        "plt.title('training and validation accuracy')\n",
        "plt.legend()\n",
        "\n",
        "plt.figure()\n",
        "\n",
        "# training and validation loss\n",
        "\n",
        "plt.plot(epochs, loss, 'bo', label='training loss')\n",
        "plt.plot(epochs, val_loss, 'b', label='validation loss')\n",
        "plt.title('training and validation loss')\n",
        "plt.legend()\n",
        "\n",
        "plt.show()"
      ],
      "execution_count": 15,
      "outputs": [
        {
          "output_type": "display_data",
          "data": {
            "image/png": "[encoded data removed]",
            "text/plain": [
              "<Figure size 432x288 with 1 Axes>"
            ]
          },
          "metadata": {
            "tags": [],
            "needs_background": "light"
          }
        },
        {
          "output_type": "display_data",
          "data": {
            "image/png": "[encoded data removed]",
            "text/plain": [
              "<Figure size 432x288 with 1 Axes>"
            ]
          },
          "metadata": {
            "tags": [],
            "needs_background": "light"
          }
        }
      ]
    },
    {
      "cell_type": "markdown",
      "metadata": {
        "id": "he3Nw6TOJwjx",
        "colab_type": "text"
      },
      "source": [
        "## Print out validation loss and accuracy"
      ]
    },
    {
      "cell_type": "code",
      "metadata": {
        "id": "SVQtrk7uJdhl",
        "colab_type": "code",
        "colab": {}
      },
      "source": [
        "val_loss, val_acc = model.evaluate_generator(validation_generator, steps=50)"
      ],
      "execution_count": 0,
      "outputs": []
    },
    {
      "cell_type": "code",
      "metadata": {
        "id": "HpdddLi1SUMe",
        "colab_type": "code",
        "outputId": "0c3699a4-b776-424f-f7ba-89b3ea174389",
        "colab": {
          "base_uri": "https://localhost:8080/",
          "height": 51
        }
      },
      "source": [
        "print(\"Validation loss:\", val_loss)\n",
        "print(\"Validation accuracy:\", val_acc)"
      ],
      "execution_count": 17,
      "outputs": [
        {
          "output_type": "stream",
          "text": [
            "Validation loss: 0.11622577905654907\n",
            "Validation accuracy: 0.972000002861023\n"
          ],
          "name": "stdout"
        }
      ]
    },
    {
      "cell_type": "markdown",
      "metadata": {
        "id": "7Ww756WToby8",
        "colab_type": "text"
      },
      "source": [
        "## Save the model"
      ]
    },
    {
      "cell_type": "code",
      "metadata": {
        "id": "0lTUpUdwobKW",
        "colab_type": "code",
        "colab": {}
      },
      "source": [
        "model_fname = 'cats_and_dogs_small_4.h5' \n",
        "model.save(model_fname)"
      ],
      "execution_count": 0,
      "outputs": []
    },
    {
      "cell_type": "code",
      "metadata": {
        "id": "YhEoI8ZTok-X",
        "colab_type": "code",
        "colab": {}
      },
      "source": [
        "from google.colab import files\n",
        "\n",
        "with open(model_fname, 'r') as f:\n",
        "  files.download(model_fname)"
      ],
      "execution_count": 0,
      "outputs": []
    }
  ]
}