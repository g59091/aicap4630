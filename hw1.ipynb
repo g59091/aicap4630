{
  "nbformat": 4,
  "nbformat_minor": 0,
  "metadata": {
    "colab": {
      "name": "hw1.ipynb",
      "provenance": [],
      "collapsed_sections": [],
      "authorship_tag": "ABX9TyPFOSLpmJCqsJK2xrXCHtvL",
      "include_colab_link": true
    },
    "kernelspec": {
      "name": "python3",
      "display_name": "Python 3"
    }
  },
  "cells": [
    {
      "cell_type": "markdown",
      "metadata": {
        "id": "view-in-github",
        "colab_type": "text"
      },
      "source": [
        "<a href=\"https://colab.research.google.com/github/g59091/aicap4630/blob/master/hw1.ipynb\" target=\"_parent\"><img src=\"https://colab.research.google.com/assets/colab-badge.svg\" alt=\"Open In Colab\"/></a>"
      ]
    },
    {
      "cell_type": "code",
      "metadata": {
        "id": "DNGoOveDNxLf",
        "colab_type": "code",
        "outputId": "a0833499-7b00-4e1a-b464-8dac06616317",
        "colab": {
          "base_uri": "https://localhost:8080/",
          "height": 153
        }
      },
      "source": [
        "import numpy as np\n",
        "\n",
        "\n",
        "def multiply_matricies(matrixlist):\n",
        "    result = np.eye(3)\n",
        "    for x in matrixlist:\n",
        "        try:\n",
        "            result = np.matmul(result, x)\n",
        "        except:\n",
        "            print(\"Error: A pair of incompatible matricies was found.\")\n",
        "            return x, result\n",
        "    return result\n",
        "\n",
        "testlist1 = [np.array(([[0, 1, 2], [3, 4, 5], [6, 7, 8]])),\n",
        "             np.array(([[5, 1, 3], [9, 2, 8], [8, 4, 3]])),\n",
        "             np.array(([[-0.6, 1.2, 3.2], [9.1, 2.4, -3.2], [-0.3, 2.3, 6]]))]\n",
        "print(multiply_matricies(testlist1))\n",
        "testlist2 = [np.array(([[0, 1, 2], [3, 4, 5], [6, 7, 8]])),\n",
        "             np.array(([[5, 1, 3], [8, 4, 3]])),\n",
        "             np.array(([[-0.6, 1.2, 3.2], [9.1, 2.4, -3.2], [-0.3, 2.3, 6]]))]\n",
        "print(multiply_matricies(testlist2))"
      ],
      "execution_count": 0,
      "outputs": [
        {
          "output_type": "stream",
          "text": [
            "[[ 71.8  86.2 132. ]\n",
            " [210.7 312.4 528. ]\n",
            " [349.6 538.6 924. ]]\n",
            "Error: A pair of incompatible matricies was found.\n",
            "(array([[5, 1, 3],\n",
            "       [8, 4, 3]]), array([[0., 1., 2.],\n",
            "       [3., 4., 5.],\n",
            "       [6., 7., 8.]]))\n"
          ],
          "name": "stdout"
        }
      ]
    },
    {
      "cell_type": "markdown",
      "metadata": {
        "id": "m19_tZRnJ4qs",
        "colab_type": "text"
      },
      "source": [
        "# Goal\n",
        "The goal of the python code is to ensure that successful matrix multiplcations return correctly, while incorrect matrix multiplications throw an exception and identify the incompatible pair of matricies.\n",
        "\n",
        "### How the code works\n",
        "The function *multiply_matricies* takes in a list of numpy arrays and trys to output the result of doing matrix multiplication on said numpy arrays. If there is only one numpy array in this list, the result will display the numpy array (multiplying the indentity matrix by a numpy matrix will result in the same matrix).\n",
        "If there is more than one array present in the list, the function will loop through and do matrix multiplication recursively throughout the list.\n",
        "\n",
        "### Compatibility\n",
        "If two matricies are incompatible, we will throw an exception.\n",
        "**For the matricies to be compatible, the number of columns in the first matrix must be equal to the number of rows in the second matrix.**\n",
        "\n",
        "For example, a $2 \\times 3$ matrix would be incompatible multiplying with a $2 \\times 2$ matrix.\n",
        "\n",
        "$$\n",
        "\\begin{bmatrix}\n",
        "  a  &  b  &  c      \\\\\n",
        "  d  &  e  &  f\n",
        "\\end{bmatrix}\n",
        "\\times\n",
        "\\begin{bmatrix}\n",
        "    g  &  h      \\\\\n",
        "    i  &  j\n",
        "\\end{bmatrix}\n",
        "= \n",
        "Unde\\hspace{-0.1em}fined.$$\n",
        "\n",
        "However, a $2 \\times 2$ matrix would be compatible multiplying with a $2 \\times 3$ matrix.\n",
        "\n",
        "$$\\begin{bmatrix}\n",
        "    a  &  b      \\\\\n",
        "    c  &  d\n",
        "\\end{bmatrix}\n",
        "\\times\n",
        "\\begin{bmatrix}\n",
        "    e  &  f  &  g      \\\\\n",
        "    h  &  i  &  j\n",
        "\\end{bmatrix}\n",
        "=\n",
        "\\begin{bmatrix}\n",
        "    ae + bh  &  af + bi  &  ag + bj      \\\\\n",
        "    ce + dh  &  cf + di  &  cg + dj      \\\\\n",
        "\\end{bmatrix}$$\n"
      ]
    }
  ]
}