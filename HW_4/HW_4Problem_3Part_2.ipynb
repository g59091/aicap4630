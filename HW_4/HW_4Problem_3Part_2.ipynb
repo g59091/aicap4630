{
  "nbformat": 4,
  "nbformat_minor": 0,
  "metadata": {
    "colab": {
      "name": "HW#4Problem#3Part#2.ipynb",
      "provenance": [],
      "collapsed_sections": []
    },
    "kernelspec": {
      "name": "python3",
      "display_name": "Python 3"
    },
    "accelerator": "GPU"
  },
  "cells": [
    {
      "cell_type": "markdown",
      "metadata": {
        "id": "KSrgMJ5vKFzQ",
        "colab_type": "text"
      },
      "source": [
        "# Fine-tuning ResNet50"
      ]
    },
    {
      "cell_type": "markdown",
      "metadata": {
        "id": "TIW7bZaAK-Hf",
        "colab_type": "text"
      },
      "source": [
        "This is based on section 5.3 *Using a pretrained convnet* of the book *Deep learning with Python* by Francois Chollet. I have made several changes to the code. I use the data that is already provided by Google. I don't download the data from Kaggle as in the deep learning book."
      ]
    },
    {
      "cell_type": "markdown",
      "metadata": {
        "id": "nsBq__dVo2pj",
        "colab_type": "text"
      },
      "source": [
        "## Feature extraction"
      ]
    },
    {
      "cell_type": "markdown",
      "metadata": {
        "id": "0g6ETAM9o54M",
        "colab_type": "text"
      },
      "source": [
        "Feature extraction consists of using the representations learned by a previous network to extract interesting features from new samples. These features are then run through a new classifier, which is trained from scratch.\n",
        "\n",
        "We will use here the convolutional base of the ResNet50 model to extract the features. We will feed these features to a densely connected classifier with dropout. We will fine-tune some layers."
      ]
    },
    {
      "cell_type": "markdown",
      "metadata": {
        "id": "BqIG8QHMLNOn",
        "colab_type": "text"
      },
      "source": [
        "## Download the data"
      ]
    },
    {
      "cell_type": "markdown",
      "metadata": {
        "id": "t3I1jd7cKV6_",
        "colab_type": "text"
      },
      "source": [
        "Download the example data, a zip. of 2,000 JPG pictures of cats and dogs and extract it locally in ```/tmp```.\n",
        "\n"
      ]
    },
    {
      "cell_type": "code",
      "metadata": {
        "id": "JWjprHEXJ5Qi",
        "colab_type": "code",
        "outputId": "42ebc00c-a793-4ff4-cdc1-83726d605894",
        "colab": {
          "base_uri": "https://localhost:8080/",
          "height": 204
        }
      },
      "source": [
        "!wget --no-check-certificate \\\n",
        "    https://storage.googleapis.com/mledu-datasets/cats_and_dogs_filtered.zip \\\n",
        "    -O /tmp/cats_and_dogs_filtered.zip"
      ],
      "execution_count": 1,
      "outputs": [
        {
          "output_type": "stream",
          "text": [
            "--2020-04-22 01:22:31--  https://storage.googleapis.com/mledu-datasets/cats_and_dogs_filtered.zip\n",
            "Resolving storage.googleapis.com (storage.googleapis.com)... 108.177.119.128, 2a00:1450:4013:c01::80\n",
            "Connecting to storage.googleapis.com (storage.googleapis.com)|108.177.119.128|:443... connected.\n",
            "HTTP request sent, awaiting response... 200 OK\n",
            "Length: 68606236 (65M) [application/zip]\n",
            "Saving to: ‘/tmp/cats_and_dogs_filtered.zip’\n",
            "\n",
            "\r          /tmp/cats   0%[                    ]       0  --.-KB/s               \r         /tmp/cats_   6%[>                   ]   4.01M  15.6MB/s               \r/tmp/cats_and_dogs_ 100%[===================>]  65.43M   143MB/s    in 0.5s    \n",
            "\n",
            "2020-04-22 01:22:31 (143 MB/s) - ‘/tmp/cats_and_dogs_filtered.zip’ saved [68606236/68606236]\n",
            "\n"
          ],
          "name": "stdout"
        }
      ]
    },
    {
      "cell_type": "code",
      "metadata": {
        "id": "WvoHtdA-K6Rw",
        "colab_type": "code",
        "colab": {}
      },
      "source": [
        "import os\n",
        "import zipfile\n",
        "\n",
        "local_zip = '/tmp/cats_and_dogs_filtered.zip'\n",
        "zip_ref = zipfile.ZipFile(local_zip, 'r')\n",
        "zip_ref.extractall('/tmp')\n",
        "zip_ref.close()"
      ],
      "execution_count": 0,
      "outputs": []
    },
    {
      "cell_type": "markdown",
      "metadata": {
        "id": "shZiOBnJMyy_",
        "colab_type": "text"
      },
      "source": [
        "Note that the data provided by Google does not have a test set."
      ]
    },
    {
      "cell_type": "code",
      "metadata": {
        "id": "dL8ikM89LlsH",
        "colab_type": "code",
        "colab": {}
      },
      "source": [
        "base_dir = '/tmp/cats_and_dogs_filtered'\n",
        "train_dir = os.path.join(base_dir, 'train')\n",
        "validation_dir = os.path.join(base_dir, 'validation')\n",
        "\n",
        "# Directory with our training cat pictures\n",
        "train_cats_dir = os.path.join(train_dir, 'cats')\n",
        "\n",
        "# Directory with our training dog pictures\n",
        "train_dogs_dir = os.path.join(train_dir, 'dogs')\n",
        "\n",
        "# Directory with our validation cat pictures\n",
        "validation_cats_dir = os.path.join(validation_dir, 'cats')\n",
        "\n",
        "# Directory with our validation dog pictures\n",
        "validation_dogs_dir = os.path.join(validation_dir, 'dogs')"
      ],
      "execution_count": 0,
      "outputs": []
    },
    {
      "cell_type": "markdown",
      "metadata": {
        "id": "inyP8bcdXnn-",
        "colab_type": "text"
      },
      "source": [
        "## Build network with ResNet50 convolution base and custom densely connected layers"
      ]
    },
    {
      "cell_type": "markdown",
      "metadata": {
        "id": "kQ48W5T9rHWu",
        "colab_type": "text"
      },
      "source": [
        "### Load the convolutional base"
      ]
    },
    {
      "cell_type": "code",
      "metadata": {
        "id": "Y0FgtANCXm_H",
        "colab_type": "code",
        "outputId": "dfe1b3dc-3fe3-443b-d87d-14dcc0ec0c0f",
        "colab": {
          "base_uri": "https://localhost:8080/",
          "height": 102
        }
      },
      "source": [
        "from keras.applications.resnet50 import ResNet50\n",
        "\n",
        "conv_base = ResNet50(\n",
        "    weights='imagenet', \n",
        "    include_top=False, \n",
        "    input_shape=(150, 150, 3))"
      ],
      "execution_count": 4,
      "outputs": [
        {
          "output_type": "stream",
          "text": [
            "Using TensorFlow backend.\n",
            "/usr/local/lib/python3.6/dist-packages/keras_applications/resnet50.py:265: UserWarning: The output shape of `ResNet50(include_top=False)` has been changed since Keras 2.2.0.\n",
            "  warnings.warn('The output shape of `ResNet50(include_top=False)` '\n"
          ],
          "name": "stderr"
        },
        {
          "output_type": "stream",
          "text": [
            "Downloading data from https://github.com/fchollet/deep-learning-models/releases/download/v0.2/resnet50_weights_tf_dim_ordering_tf_kernels_notop.h5\n",
            "94658560/94653016 [==============================] - 3s 0us/step\n"
          ],
          "name": "stdout"
        }
      ]
    },
    {
      "cell_type": "markdown",
      "metadata": {
        "id": "D6OBHOO9q1ou",
        "colab_type": "text"
      },
      "source": [
        "### Freeze the convolutional base"
      ]
    },
    {
      "cell_type": "code",
      "metadata": {
        "id": "UleRo4Dpq6Ld",
        "colab_type": "code",
        "colab": {}
      },
      "source": [
        "conv_base.trainable = False"
      ],
      "execution_count": 0,
      "outputs": []
    },
    {
      "cell_type": "markdown",
      "metadata": {
        "id": "Qfx6PqhPrb7Q",
        "colab_type": "text"
      },
      "source": [
        "### Concatenate the convolutional base and densely connected layers"
      ]
    },
    {
      "cell_type": "code",
      "metadata": {
        "id": "qUpmocDAO3xm",
        "colab_type": "code",
        "colab": {}
      },
      "source": [
        "from keras import layers\n",
        "from keras import models\n",
        "from keras import optimizers\n",
        "\n",
        "model = models.Sequential()\n",
        "model.add(conv_base)\n",
        "model.add(layers.Flatten())\n",
        "model.add(layers.Dense(256, activation='relu'))\n",
        "#model.add(layers.Dropout(0.1))\n",
        "model.add(layers.Dense(1, activation='sigmoid'))"
      ],
      "execution_count": 0,
      "outputs": []
    },
    {
      "cell_type": "code",
      "metadata": {
        "id": "Fh6gZSeAjF7c",
        "colab_type": "code",
        "outputId": "f16a615d-fa6d-4b3d-a7d2-83967fdbede0",
        "colab": {
          "base_uri": "https://localhost:8080/",
          "height": 289
        }
      },
      "source": [
        "model.summary()"
      ],
      "execution_count": 8,
      "outputs": [
        {
          "output_type": "stream",
          "text": [
            "Model: \"sequential_1\"\n",
            "_________________________________________________________________\n",
            "Layer (type)                 Output Shape              Param #   \n",
            "=================================================================\n",
            "resnet50 (Model)             (None, 5, 5, 2048)        23587712  \n",
            "_________________________________________________________________\n",
            "flatten_1 (Flatten)          (None, 51200)             0         \n",
            "_________________________________________________________________\n",
            "dense_1 (Dense)              (None, 256)               13107456  \n",
            "_________________________________________________________________\n",
            "dense_2 (Dense)              (None, 1)                 257       \n",
            "=================================================================\n",
            "Total params: 36,695,425\n",
            "Trainable params: 13,107,713\n",
            "Non-trainable params: 23,587,712\n",
            "_________________________________________________________________\n"
          ],
          "name": "stdout"
        }
      ]
    },
    {
      "cell_type": "markdown",
      "metadata": {
        "id": "eZjBiddhi5Qj",
        "colab_type": "text"
      },
      "source": [
        "## Train the model end to end with frozen convolutional base"
      ]
    },
    {
      "cell_type": "code",
      "metadata": {
        "id": "tfAQlC2Oi41L",
        "colab_type": "code",
        "outputId": "e20b8941-1607-475b-d5d1-ab56cca7ba56",
        "colab": {
          "base_uri": "https://localhost:8080/",
          "height": 1000
        }
      },
      "source": [
        "from keras.preprocessing.image import ImageDataGenerator\n",
        "from keras import optimizers\n",
        "\n",
        "# data augmentation\n",
        "\n",
        "train_datagen = ImageDataGenerator(\n",
        "    rescale=1./255, \n",
        "    rotation_range=40,\n",
        "    width_shift_range=0.2,\n",
        "    height_shift_range=0.2,\n",
        "    shear_range=0.2,\n",
        "    zoom_range=0.2,\n",
        "    horizontal_flip=True,\n",
        "    fill_mode='nearest'\n",
        ")\n",
        "\n",
        "train_generator = train_datagen.flow_from_directory(\n",
        "    train_dir,\n",
        "    target_size=(150, 150),\n",
        "    batch_size=20,\n",
        "    class_mode='sparse')\n",
        "\n",
        "validation_datagen = ImageDataGenerator(rescale=1./255)\n",
        "\n",
        "validation_generator = validation_datagen.flow_from_directory(\n",
        "    validation_dir,\n",
        "    target_size=(150, 150),\n",
        "    batch_size=20,\n",
        "    class_mode='sparse')\n",
        "\n",
        "# compile model\n",
        "\n",
        "model.compile(\n",
        "    loss='binary_crossentropy', \n",
        "    optimizer=optimizers.RMSprop(lr=2e-5), \n",
        "    metrics=['acc'])\n",
        "\n",
        "# train\n",
        "\n",
        "history = model.fit_generator(\n",
        "    train_generator,\n",
        "    steps_per_epoch=100,\n",
        "    epochs=30,\n",
        "    validation_data=validation_generator,\n",
        "    validation_steps=50\n",
        ")"
      ],
      "execution_count": 9,
      "outputs": [
        {
          "output_type": "stream",
          "text": [
            "Found 2000 images belonging to 2 classes.\n",
            "Found 1000 images belonging to 2 classes.\n",
            "Epoch 1/30\n",
            "100/100 [==============================] - 27s 269ms/step - loss: 0.3920 - acc: 0.8390 - val_loss: 0.7033 - val_acc: 0.5040\n",
            "Epoch 2/30\n",
            "100/100 [==============================] - 18s 175ms/step - loss: 0.2881 - acc: 0.8850 - val_loss: 0.7390 - val_acc: 0.5110\n",
            "Epoch 3/30\n",
            "100/100 [==============================] - 17s 175ms/step - loss: 0.2418 - acc: 0.8985 - val_loss: 0.6643 - val_acc: 0.5010\n",
            "Epoch 4/30\n",
            "100/100 [==============================] - 17s 173ms/step - loss: 0.2305 - acc: 0.9070 - val_loss: 0.6633 - val_acc: 0.5000\n",
            "Epoch 5/30\n",
            "100/100 [==============================] - 17s 174ms/step - loss: 0.2111 - acc: 0.9150 - val_loss: 0.7402 - val_acc: 0.5010\n",
            "Epoch 6/30\n",
            "100/100 [==============================] - 17s 175ms/step - loss: 0.2067 - acc: 0.9215 - val_loss: 0.9855 - val_acc: 0.5010\n",
            "Epoch 7/30\n",
            "100/100 [==============================] - 18s 176ms/step - loss: 0.1980 - acc: 0.9225 - val_loss: 0.7605 - val_acc: 0.5000\n",
            "Epoch 8/30\n",
            "100/100 [==============================] - 17s 175ms/step - loss: 0.2078 - acc: 0.9230 - val_loss: 0.9145 - val_acc: 0.5000\n",
            "Epoch 9/30\n",
            "100/100 [==============================] - 17s 174ms/step - loss: 0.1611 - acc: 0.9360 - val_loss: 0.6737 - val_acc: 0.5000\n",
            "Epoch 10/30\n",
            "100/100 [==============================] - 17s 174ms/step - loss: 0.1897 - acc: 0.9310 - val_loss: 1.1961 - val_acc: 0.5000\n",
            "Epoch 11/30\n",
            "100/100 [==============================] - 17s 174ms/step - loss: 0.1809 - acc: 0.9355 - val_loss: 0.9263 - val_acc: 0.5000\n",
            "Epoch 12/30\n",
            "100/100 [==============================] - 18s 176ms/step - loss: 0.1698 - acc: 0.9345 - val_loss: 1.1011 - val_acc: 0.5000\n",
            "Epoch 13/30\n",
            "100/100 [==============================] - 17s 174ms/step - loss: 0.1729 - acc: 0.9350 - val_loss: 1.1442 - val_acc: 0.5000\n",
            "Epoch 14/30\n",
            "100/100 [==============================] - 17s 175ms/step - loss: 0.1587 - acc: 0.9415 - val_loss: 1.1914 - val_acc: 0.5000\n",
            "Epoch 15/30\n",
            "100/100 [==============================] - 17s 175ms/step - loss: 0.1603 - acc: 0.9375 - val_loss: 0.9337 - val_acc: 0.5000\n",
            "Epoch 16/30\n",
            "100/100 [==============================] - 18s 176ms/step - loss: 0.1603 - acc: 0.9425 - val_loss: 1.2843 - val_acc: 0.5000\n",
            "Epoch 17/30\n",
            "100/100 [==============================] - 18s 176ms/step - loss: 0.1497 - acc: 0.9455 - val_loss: 1.1973 - val_acc: 0.5000\n",
            "Epoch 18/30\n",
            "100/100 [==============================] - 18s 176ms/step - loss: 0.1061 - acc: 0.9610 - val_loss: 1.3716 - val_acc: 0.5000\n",
            "Epoch 19/30\n",
            "100/100 [==============================] - 18s 176ms/step - loss: 0.1207 - acc: 0.9550 - val_loss: 1.1897 - val_acc: 0.5000\n",
            "Epoch 20/30\n",
            "100/100 [==============================] - 17s 174ms/step - loss: 0.1385 - acc: 0.9485 - val_loss: 1.1547 - val_acc: 0.5000\n",
            "Epoch 21/30\n",
            "100/100 [==============================] - 18s 178ms/step - loss: 0.1472 - acc: 0.9460 - val_loss: 1.4791 - val_acc: 0.5000\n",
            "Epoch 22/30\n",
            "100/100 [==============================] - 18s 175ms/step - loss: 0.1371 - acc: 0.9485 - val_loss: 2.2703 - val_acc: 0.5000\n",
            "Epoch 23/30\n",
            "100/100 [==============================] - 17s 174ms/step - loss: 0.1357 - acc: 0.9545 - val_loss: 1.9344 - val_acc: 0.5000\n",
            "Epoch 24/30\n",
            "100/100 [==============================] - 17s 173ms/step - loss: 0.1151 - acc: 0.9595 - val_loss: 1.2504 - val_acc: 0.5000\n",
            "Epoch 25/30\n",
            "100/100 [==============================] - 17s 174ms/step - loss: 0.1321 - acc: 0.9565 - val_loss: 1.9064 - val_acc: 0.5000\n",
            "Epoch 26/30\n",
            "100/100 [==============================] - 17s 173ms/step - loss: 0.1206 - acc: 0.9550 - val_loss: 1.4523 - val_acc: 0.5000\n",
            "Epoch 27/30\n",
            "100/100 [==============================] - 18s 181ms/step - loss: 0.1314 - acc: 0.9520 - val_loss: 1.3092 - val_acc: 0.5000\n",
            "Epoch 28/30\n",
            "100/100 [==============================] - 17s 172ms/step - loss: 0.1056 - acc: 0.9575 - val_loss: 2.0292 - val_acc: 0.5000\n",
            "Epoch 29/30\n",
            "100/100 [==============================] - 17s 170ms/step - loss: 0.1087 - acc: 0.9620 - val_loss: 1.4176 - val_acc: 0.5000\n",
            "Epoch 30/30\n",
            "100/100 [==============================] - 17s 172ms/step - loss: 0.1217 - acc: 0.9610 - val_loss: 1.5393 - val_acc: 0.5000\n"
          ],
          "name": "stdout"
        }
      ]
    },
    {
      "cell_type": "markdown",
      "metadata": {
        "id": "xqRc_vHKc92U",
        "colab_type": "text"
      },
      "source": [
        "## Display curves of loss and accuracy during training"
      ]
    },
    {
      "cell_type": "code",
      "metadata": {
        "id": "ybWwdzz9bwuQ",
        "colab_type": "code",
        "outputId": "601df2fb-9bd1-4a14-e39e-61598b508cf8",
        "colab": {
          "base_uri": "https://localhost:8080/",
          "height": 545
        }
      },
      "source": [
        "%matplotlib inline\n",
        "\n",
        "import matplotlib.pyplot as plt\n",
        "\n",
        "acc = history.history['acc']\n",
        "val_acc = history.history['val_acc']\n",
        "\n",
        "loss = history.history['loss']\n",
        "val_loss = history.history['val_loss']\n",
        "\n",
        "epochs = range(1, len(acc) + 1)\n",
        "\n",
        "# training and validation accuracy\n",
        "\n",
        "plt.plot(epochs, acc, 'bo', label='training acc')\n",
        "plt.plot(epochs, val_acc, 'b', label='validation acc')\n",
        "plt.title('training and validation accuracy')\n",
        "plt.legend()\n",
        "\n",
        "plt.figure()\n",
        "\n",
        "# training and validation loss\n",
        "\n",
        "plt.plot(epochs, loss, 'bo', label='training loss')\n",
        "plt.plot(epochs, val_loss, 'b', label='validation loss')\n",
        "plt.title('training and validation loss')\n",
        "plt.legend()\n",
        "\n",
        "plt.show()"
      ],
      "execution_count": 10,
      "outputs": [
        {
          "output_type": "display_data",
          "data": {
            "image/png": "[encoded data removed]",
            "text/plain": [
              "<Figure size 432x288 with 1 Axes>"
            ]
          },
          "metadata": {
            "tags": [],
            "needs_background": "light"
          }
        },
        {
          "output_type": "display_data",
          "data": {
            "image/png": "[encoded data removed]",
            "text/plain": [
              "<Figure size 432x288 with 1 Axes>"
            ]
          },
          "metadata": {
            "tags": [],
            "needs_background": "light"
          }
        }
      ]
    },
    {
      "cell_type": "markdown",
      "metadata": {
        "id": "lOWsxpey8lN0",
        "colab_type": "text"
      },
      "source": [
        "## Fine-tuning"
      ]
    },
    {
      "cell_type": "code",
      "metadata": {
        "id": "PwkVMx8N8qMw",
        "colab_type": "code",
        "colab": {}
      },
      "source": [
        "conv_base.trainable = True\n",
        "\n",
        "set_trainable = False\n",
        "for layer in conv_base.layers:\n",
        "  if layer.name == 'res5b_branch2a':\n",
        "    set_trainable = True\n",
        "  if set_trainable:\n",
        "    layer.trainable = True\n",
        "  else:\n",
        "    layer.trainable = False"
      ],
      "execution_count": 0,
      "outputs": []
    },
    {
      "cell_type": "code",
      "metadata": {
        "id": "DyN-J7rs9cvo",
        "colab_type": "code",
        "outputId": "ee602e2d-29e5-4c6d-ae19-362b204b83fc",
        "colab": {
          "base_uri": "https://localhost:8080/",
          "height": 1000
        }
      },
      "source": [
        "# compile model\n",
        "\n",
        "model.compile(\n",
        "    loss='binary_crossentropy',\n",
        "    #\n",
        "    # choose a smaller learning rate\n",
        "    #\n",
        "    optimizer=optimizers.RMSprop(lr=1e-5), \n",
        "    metrics=['acc'])\n",
        "\n",
        "# train\n",
        "\n",
        "history = model.fit_generator(\n",
        "    train_generator,\n",
        "    steps_per_epoch=100,\n",
        "    epochs=100,\n",
        "    validation_data=validation_generator,\n",
        "    validation_steps=50)"
      ],
      "execution_count": 13,
      "outputs": [
        {
          "output_type": "stream",
          "text": [
            "Epoch 1/100\n",
            "100/100 [==============================] - 24s 235ms/step - loss: 0.1054 - acc: 0.9605 - val_loss: 0.8486 - val_acc: 0.5540\n",
            "Epoch 2/100\n",
            "100/100 [==============================] - 19s 187ms/step - loss: 0.0888 - acc: 0.9645 - val_loss: 4.2952 - val_acc: 0.4920\n",
            "Epoch 3/100\n",
            "100/100 [==============================] - 18s 180ms/step - loss: 0.0928 - acc: 0.9665 - val_loss: 3.4581 - val_acc: 0.4960\n",
            "Epoch 4/100\n",
            "100/100 [==============================] - 18s 181ms/step - loss: 0.1133 - acc: 0.9575 - val_loss: 3.9343 - val_acc: 0.5110\n",
            "Epoch 5/100\n",
            "100/100 [==============================] - 18s 180ms/step - loss: 0.0918 - acc: 0.9655 - val_loss: 2.5269 - val_acc: 0.5300\n",
            "Epoch 6/100\n",
            "100/100 [==============================] - 18s 180ms/step - loss: 0.0831 - acc: 0.9695 - val_loss: 1.2396 - val_acc: 0.6220\n",
            "Epoch 7/100\n",
            "100/100 [==============================] - 18s 178ms/step - loss: 0.0987 - acc: 0.9620 - val_loss: 0.4164 - val_acc: 0.7580\n",
            "Epoch 8/100\n",
            "100/100 [==============================] - 18s 178ms/step - loss: 0.0750 - acc: 0.9715 - val_loss: 0.1474 - val_acc: 0.8620\n",
            "Epoch 9/100\n",
            "100/100 [==============================] - 18s 178ms/step - loss: 0.0693 - acc: 0.9700 - val_loss: 0.0139 - val_acc: 0.9110\n",
            "Epoch 10/100\n",
            "100/100 [==============================] - 18s 180ms/step - loss: 0.0929 - acc: 0.9690 - val_loss: 0.0558 - val_acc: 0.9430\n",
            "Epoch 11/100\n",
            "100/100 [==============================] - 18s 180ms/step - loss: 0.0854 - acc: 0.9645 - val_loss: 0.0144 - val_acc: 0.9630\n",
            "Epoch 12/100\n",
            "100/100 [==============================] - 18s 179ms/step - loss: 0.0736 - acc: 0.9730 - val_loss: 0.0210 - val_acc: 0.9620\n",
            "Epoch 13/100\n",
            "100/100 [==============================] - 18s 178ms/step - loss: 0.0706 - acc: 0.9770 - val_loss: 0.0099 - val_acc: 0.9620\n",
            "Epoch 14/100\n",
            "100/100 [==============================] - 18s 178ms/step - loss: 0.0771 - acc: 0.9740 - val_loss: 0.0025 - val_acc: 0.9590\n",
            "Epoch 15/100\n",
            "100/100 [==============================] - 18s 182ms/step - loss: 0.0690 - acc: 0.9760 - val_loss: 0.1277 - val_acc: 0.9540\n",
            "Epoch 16/100\n",
            "100/100 [==============================] - 18s 179ms/step - loss: 0.0629 - acc: 0.9735 - val_loss: 0.0744 - val_acc: 0.9630\n",
            "Epoch 17/100\n",
            "100/100 [==============================] - 18s 180ms/step - loss: 0.0910 - acc: 0.9675 - val_loss: 0.0050 - val_acc: 0.9550\n",
            "Epoch 18/100\n",
            "100/100 [==============================] - 18s 180ms/step - loss: 0.0718 - acc: 0.9750 - val_loss: 0.0442 - val_acc: 0.9650\n",
            "Epoch 19/100\n",
            "100/100 [==============================] - 18s 183ms/step - loss: 0.0647 - acc: 0.9775 - val_loss: 0.1276 - val_acc: 0.9600\n",
            "Epoch 20/100\n",
            "100/100 [==============================] - 18s 181ms/step - loss: 0.0663 - acc: 0.9750 - val_loss: 0.0391 - val_acc: 0.9550\n",
            "Epoch 21/100\n",
            "100/100 [==============================] - 18s 180ms/step - loss: 0.0553 - acc: 0.9785 - val_loss: 0.0325 - val_acc: 0.9600\n",
            "Epoch 22/100\n",
            "100/100 [==============================] - 18s 182ms/step - loss: 0.0595 - acc: 0.9780 - val_loss: 0.2614 - val_acc: 0.9520\n",
            "Epoch 23/100\n",
            "100/100 [==============================] - 18s 181ms/step - loss: 0.0527 - acc: 0.9855 - val_loss: 0.0051 - val_acc: 0.9590\n",
            "Epoch 24/100\n",
            "100/100 [==============================] - 18s 182ms/step - loss: 0.0642 - acc: 0.9800 - val_loss: 0.0014 - val_acc: 0.9640\n",
            "Epoch 25/100\n",
            "100/100 [==============================] - 18s 180ms/step - loss: 0.0643 - acc: 0.9795 - val_loss: 0.5447 - val_acc: 0.9580\n",
            "Epoch 26/100\n",
            "100/100 [==============================] - 18s 180ms/step - loss: 0.0409 - acc: 0.9865 - val_loss: 0.2056 - val_acc: 0.9600\n",
            "Epoch 27/100\n",
            "100/100 [==============================] - 18s 180ms/step - loss: 0.0561 - acc: 0.9810 - val_loss: 0.0092 - val_acc: 0.9560\n",
            "Epoch 28/100\n",
            "100/100 [==============================] - 18s 181ms/step - loss: 0.0642 - acc: 0.9810 - val_loss: 0.0016 - val_acc: 0.9550\n",
            "Epoch 29/100\n",
            "100/100 [==============================] - 18s 181ms/step - loss: 0.0602 - acc: 0.9785 - val_loss: 0.1099 - val_acc: 0.9480\n",
            "Epoch 30/100\n",
            "100/100 [==============================] - 18s 181ms/step - loss: 0.0535 - acc: 0.9850 - val_loss: 0.2042 - val_acc: 0.9600\n",
            "Epoch 31/100\n",
            "100/100 [==============================] - 18s 182ms/step - loss: 0.0658 - acc: 0.9750 - val_loss: 0.2759 - val_acc: 0.9560\n",
            "Epoch 32/100\n",
            "100/100 [==============================] - 18s 183ms/step - loss: 0.0593 - acc: 0.9770 - val_loss: 0.0163 - val_acc: 0.9620\n",
            "Epoch 33/100\n",
            "100/100 [==============================] - 18s 182ms/step - loss: 0.0535 - acc: 0.9810 - val_loss: 0.0329 - val_acc: 0.9560\n",
            "Epoch 34/100\n",
            "100/100 [==============================] - 18s 181ms/step - loss: 0.0547 - acc: 0.9795 - val_loss: 0.0843 - val_acc: 0.9570\n",
            "Epoch 35/100\n",
            "100/100 [==============================] - 18s 181ms/step - loss: 0.0693 - acc: 0.9790 - val_loss: 0.0087 - val_acc: 0.9530\n",
            "Epoch 36/100\n",
            "100/100 [==============================] - 18s 184ms/step - loss: 0.0314 - acc: 0.9865 - val_loss: 0.6837 - val_acc: 0.9630\n",
            "Epoch 37/100\n",
            "100/100 [==============================] - 18s 183ms/step - loss: 0.0494 - acc: 0.9835 - val_loss: 0.4408 - val_acc: 0.9610\n",
            "Epoch 38/100\n",
            "100/100 [==============================] - 18s 182ms/step - loss: 0.0486 - acc: 0.9800 - val_loss: 0.2298 - val_acc: 0.9580\n",
            "Epoch 39/100\n",
            "100/100 [==============================] - 18s 183ms/step - loss: 0.0433 - acc: 0.9825 - val_loss: 0.1950 - val_acc: 0.9570\n",
            "Epoch 40/100\n",
            "100/100 [==============================] - 18s 180ms/step - loss: 0.0563 - acc: 0.9820 - val_loss: 0.6787 - val_acc: 0.9560\n",
            "Epoch 41/100\n",
            "100/100 [==============================] - 18s 183ms/step - loss: 0.0421 - acc: 0.9850 - val_loss: 0.2358 - val_acc: 0.9520\n",
            "Epoch 42/100\n",
            "100/100 [==============================] - 18s 182ms/step - loss: 0.0339 - acc: 0.9860 - val_loss: 0.0938 - val_acc: 0.9540\n",
            "Epoch 43/100\n",
            "100/100 [==============================] - 18s 181ms/step - loss: 0.0426 - acc: 0.9820 - val_loss: 0.1543 - val_acc: 0.9510\n",
            "Epoch 44/100\n",
            "100/100 [==============================] - 19s 192ms/step - loss: 0.0443 - acc: 0.9840 - val_loss: 4.2648e-05 - val_acc: 0.9560\n",
            "Epoch 45/100\n",
            "100/100 [==============================] - 18s 183ms/step - loss: 0.0400 - acc: 0.9870 - val_loss: 0.0118 - val_acc: 0.9580\n",
            "Epoch 46/100\n",
            "100/100 [==============================] - 18s 184ms/step - loss: 0.0537 - acc: 0.9840 - val_loss: 0.6144 - val_acc: 0.9520\n",
            "Epoch 47/100\n",
            "100/100 [==============================] - 18s 183ms/step - loss: 0.0342 - acc: 0.9890 - val_loss: 7.0391e-04 - val_acc: 0.9540\n",
            "Epoch 48/100\n",
            "100/100 [==============================] - 18s 182ms/step - loss: 0.0353 - acc: 0.9895 - val_loss: 2.3994e-04 - val_acc: 0.9570\n",
            "Epoch 49/100\n",
            "100/100 [==============================] - 19s 188ms/step - loss: 0.0423 - acc: 0.9890 - val_loss: 0.0250 - val_acc: 0.9540\n",
            "Epoch 50/100\n",
            "100/100 [==============================] - 18s 183ms/step - loss: 0.0337 - acc: 0.9870 - val_loss: 0.3616 - val_acc: 0.9580\n",
            "Epoch 51/100\n",
            "100/100 [==============================] - 18s 181ms/step - loss: 0.0421 - acc: 0.9850 - val_loss: 0.0119 - val_acc: 0.9530\n",
            "Epoch 52/100\n",
            "100/100 [==============================] - 18s 181ms/step - loss: 0.0543 - acc: 0.9820 - val_loss: 0.2382 - val_acc: 0.9550\n",
            "Epoch 53/100\n",
            "100/100 [==============================] - 18s 183ms/step - loss: 0.0486 - acc: 0.9835 - val_loss: 0.2654 - val_acc: 0.9580\n",
            "Epoch 54/100\n",
            "100/100 [==============================] - 18s 182ms/step - loss: 0.0334 - acc: 0.9880 - val_loss: 2.7336e-04 - val_acc: 0.9570\n",
            "Epoch 55/100\n",
            "100/100 [==============================] - 18s 183ms/step - loss: 0.0390 - acc: 0.9870 - val_loss: 0.0059 - val_acc: 0.9520\n",
            "Epoch 56/100\n",
            "100/100 [==============================] - 18s 182ms/step - loss: 0.0515 - acc: 0.9820 - val_loss: 0.9228 - val_acc: 0.9490\n",
            "Epoch 57/100\n",
            "100/100 [==============================] - 18s 180ms/step - loss: 0.0357 - acc: 0.9870 - val_loss: 0.1721 - val_acc: 0.9520\n",
            "Epoch 58/100\n",
            "100/100 [==============================] - 18s 180ms/step - loss: 0.0301 - acc: 0.9910 - val_loss: 0.0458 - val_acc: 0.9510\n",
            "Epoch 59/100\n",
            "100/100 [==============================] - 18s 182ms/step - loss: 0.0416 - acc: 0.9855 - val_loss: 0.7054 - val_acc: 0.9550\n",
            "Epoch 60/100\n",
            "100/100 [==============================] - 18s 181ms/step - loss: 0.0432 - acc: 0.9875 - val_loss: 0.2409 - val_acc: 0.9550\n",
            "Epoch 61/100\n",
            "100/100 [==============================] - 18s 181ms/step - loss: 0.0359 - acc: 0.9870 - val_loss: 0.0632 - val_acc: 0.9550\n",
            "Epoch 62/100\n",
            "100/100 [==============================] - 18s 182ms/step - loss: 0.0371 - acc: 0.9900 - val_loss: 0.2166 - val_acc: 0.9580\n",
            "Epoch 63/100\n",
            "100/100 [==============================] - 18s 182ms/step - loss: 0.0314 - acc: 0.9895 - val_loss: 0.0341 - val_acc: 0.9560\n",
            "Epoch 64/100\n",
            "100/100 [==============================] - 18s 183ms/step - loss: 0.0301 - acc: 0.9870 - val_loss: 0.4845 - val_acc: 0.9590\n",
            "Epoch 65/100\n",
            "100/100 [==============================] - 18s 181ms/step - loss: 0.0460 - acc: 0.9845 - val_loss: 0.2632 - val_acc: 0.9540\n",
            "Epoch 66/100\n",
            "100/100 [==============================] - 18s 181ms/step - loss: 0.0355 - acc: 0.9895 - val_loss: 0.0495 - val_acc: 0.9530\n",
            "Epoch 67/100\n",
            "100/100 [==============================] - 18s 181ms/step - loss: 0.0455 - acc: 0.9875 - val_loss: 0.0050 - val_acc: 0.9580\n",
            "Epoch 68/100\n",
            "100/100 [==============================] - 18s 182ms/step - loss: 0.0316 - acc: 0.9885 - val_loss: 0.9156 - val_acc: 0.9530\n",
            "Epoch 69/100\n",
            "100/100 [==============================] - 18s 182ms/step - loss: 0.0357 - acc: 0.9880 - val_loss: 0.0654 - val_acc: 0.9550\n",
            "Epoch 70/100\n",
            "100/100 [==============================] - 18s 183ms/step - loss: 0.0321 - acc: 0.9885 - val_loss: 0.1008 - val_acc: 0.9510\n",
            "Epoch 71/100\n",
            "100/100 [==============================] - 18s 181ms/step - loss: 0.0489 - acc: 0.9855 - val_loss: 0.1729 - val_acc: 0.9590\n",
            "Epoch 72/100\n",
            "100/100 [==============================] - 18s 183ms/step - loss: 0.0192 - acc: 0.9925 - val_loss: 0.1500 - val_acc: 0.9540\n",
            "Epoch 73/100\n",
            "100/100 [==============================] - 18s 182ms/step - loss: 0.0269 - acc: 0.9910 - val_loss: 0.4323 - val_acc: 0.9580\n",
            "Epoch 74/100\n",
            "100/100 [==============================] - 18s 182ms/step - loss: 0.0443 - acc: 0.9850 - val_loss: 1.9183 - val_acc: 0.9490\n",
            "Epoch 75/100\n",
            "100/100 [==============================] - 18s 183ms/step - loss: 0.0419 - acc: 0.9860 - val_loss: 5.8886e-04 - val_acc: 0.9550\n",
            "Epoch 76/100\n",
            "100/100 [==============================] - 18s 182ms/step - loss: 0.0363 - acc: 0.9885 - val_loss: 2.7102e-04 - val_acc: 0.9560\n",
            "Epoch 77/100\n",
            "100/100 [==============================] - 18s 183ms/step - loss: 0.0235 - acc: 0.9920 - val_loss: 0.1964 - val_acc: 0.9530\n",
            "Epoch 78/100\n",
            "100/100 [==============================] - 18s 181ms/step - loss: 0.0435 - acc: 0.9865 - val_loss: 0.0020 - val_acc: 0.9570\n",
            "Epoch 79/100\n",
            "100/100 [==============================] - 18s 182ms/step - loss: 0.0267 - acc: 0.9935 - val_loss: 0.5596 - val_acc: 0.9550\n",
            "Epoch 80/100\n",
            "100/100 [==============================] - 18s 182ms/step - loss: 0.0375 - acc: 0.9865 - val_loss: 7.5078e-04 - val_acc: 0.9540\n",
            "Epoch 81/100\n",
            "100/100 [==============================] - 18s 182ms/step - loss: 0.0280 - acc: 0.9915 - val_loss: 2.1056e-04 - val_acc: 0.9590\n",
            "Epoch 82/100\n",
            "100/100 [==============================] - 18s 184ms/step - loss: 0.0245 - acc: 0.9910 - val_loss: 0.0826 - val_acc: 0.9550\n",
            "Epoch 83/100\n",
            "100/100 [==============================] - 18s 181ms/step - loss: 0.0359 - acc: 0.9880 - val_loss: 1.0821 - val_acc: 0.9550\n",
            "Epoch 84/100\n",
            "100/100 [==============================] - 18s 182ms/step - loss: 0.0380 - acc: 0.9895 - val_loss: 0.5492 - val_acc: 0.9540\n",
            "Epoch 85/100\n",
            "100/100 [==============================] - 18s 182ms/step - loss: 0.0272 - acc: 0.9900 - val_loss: 0.0289 - val_acc: 0.9560\n",
            "Epoch 86/100\n",
            "100/100 [==============================] - 18s 183ms/step - loss: 0.0358 - acc: 0.9890 - val_loss: 0.4529 - val_acc: 0.9540\n",
            "Epoch 87/100\n",
            "100/100 [==============================] - 18s 184ms/step - loss: 0.0320 - acc: 0.9900 - val_loss: 2.5507e-04 - val_acc: 0.9550\n",
            "Epoch 88/100\n",
            "100/100 [==============================] - 18s 185ms/step - loss: 0.0241 - acc: 0.9915 - val_loss: 0.0015 - val_acc: 0.9530\n",
            "Epoch 89/100\n",
            "100/100 [==============================] - 18s 182ms/step - loss: 0.0271 - acc: 0.9925 - val_loss: 0.0986 - val_acc: 0.9580\n",
            "Epoch 90/100\n",
            "100/100 [==============================] - 19s 186ms/step - loss: 0.0313 - acc: 0.9870 - val_loss: 0.4299 - val_acc: 0.9570\n",
            "Epoch 91/100\n",
            "100/100 [==============================] - 18s 184ms/step - loss: 0.0302 - acc: 0.9920 - val_loss: 0.3553 - val_acc: 0.9550\n",
            "Epoch 92/100\n",
            "100/100 [==============================] - 18s 181ms/step - loss: 0.0221 - acc: 0.9910 - val_loss: 0.4678 - val_acc: 0.9610\n",
            "Epoch 93/100\n",
            "100/100 [==============================] - 19s 188ms/step - loss: 0.0354 - acc: 0.9895 - val_loss: 1.0796e-04 - val_acc: 0.9570\n",
            "Epoch 94/100\n",
            "100/100 [==============================] - 18s 184ms/step - loss: 0.0333 - acc: 0.9915 - val_loss: 0.5326 - val_acc: 0.9570\n",
            "Epoch 95/100\n",
            "100/100 [==============================] - 18s 180ms/step - loss: 0.0266 - acc: 0.9925 - val_loss: 0.4562 - val_acc: 0.9540\n",
            "Epoch 96/100\n",
            "100/100 [==============================] - 18s 181ms/step - loss: 0.0239 - acc: 0.9900 - val_loss: 0.7271 - val_acc: 0.9560\n",
            "Epoch 97/100\n",
            "100/100 [==============================] - 18s 182ms/step - loss: 0.0196 - acc: 0.9925 - val_loss: 3.0588e-04 - val_acc: 0.9560\n",
            "Epoch 98/100\n",
            "100/100 [==============================] - 18s 181ms/step - loss: 0.0200 - acc: 0.9945 - val_loss: 0.6166 - val_acc: 0.9490\n",
            "Epoch 99/100\n",
            "100/100 [==============================] - 18s 181ms/step - loss: 0.0185 - acc: 0.9945 - val_loss: 0.0011 - val_acc: 0.9580\n",
            "Epoch 100/100\n",
            "100/100 [==============================] - 18s 180ms/step - loss: 0.0343 - acc: 0.9890 - val_loss: 0.4166 - val_acc: 0.9550\n"
          ],
          "name": "stdout"
        }
      ]
    },
    {
      "cell_type": "markdown",
      "metadata": {
        "id": "eVBQgh5M-Rtz",
        "colab_type": "text"
      },
      "source": [
        "## Display learning curves during fine-tuning"
      ]
    },
    {
      "cell_type": "code",
      "metadata": {
        "id": "mbkIw7Ie-NP4",
        "colab_type": "code",
        "outputId": "13bf165c-60bc-46dd-b18a-d3010d016de1",
        "colab": {
          "base_uri": "https://localhost:8080/",
          "height": 545
        }
      },
      "source": [
        "%matplotlib inline\n",
        "\n",
        "import matplotlib.pyplot as plt\n",
        "\n",
        "acc = history.history['acc']\n",
        "val_acc = history.history['val_acc']\n",
        "\n",
        "loss = history.history['loss']\n",
        "val_loss = history.history['val_loss']\n",
        "\n",
        "epochs = range(1, len(acc) + 1)\n",
        "\n",
        "# training and validation accuracy\n",
        "\n",
        "plt.plot(epochs, acc, 'bo', label='training acc')\n",
        "plt.plot(epochs, val_acc, 'b', label='validation acc')\n",
        "plt.title('training and validation accuracy')\n",
        "plt.legend()\n",
        "\n",
        "plt.figure()\n",
        "\n",
        "# training and validation loss\n",
        "\n",
        "plt.plot(epochs, loss, 'bo', label='training loss')\n",
        "plt.plot(epochs, val_loss, 'b', label='validation loss')\n",
        "plt.title('training and validation loss')\n",
        "plt.legend()\n",
        "\n",
        "plt.show()"
      ],
      "execution_count": 14,
      "outputs": [
        {
          "output_type": "display_data",
          "data": {
            "image/png": "[encoded data removed]",
            "text/plain": [
              "<Figure size 432x288 with 1 Axes>"
            ]
          },
          "metadata": {
            "tags": [],
            "needs_background": "light"
          }
        },
        {
          "output_type": "display_data",
          "data": {
            "image/png": "[encoded data removed]",
            "text/plain": [
              "<Figure size 432x288 with 1 Axes>"
            ]
          },
          "metadata": {
            "tags": [],
            "needs_background": "light"
          }
        }
      ]
    },
    {
      "cell_type": "markdown",
      "metadata": {
        "id": "he3Nw6TOJwjx",
        "colab_type": "text"
      },
      "source": [
        "## Print out validation loss and accuracy"
      ]
    },
    {
      "cell_type": "code",
      "metadata": {
        "id": "SVQtrk7uJdhl",
        "colab_type": "code",
        "colab": {}
      },
      "source": [
        "val_loss, val_acc = model.evaluate_generator(validation_generator, steps=50)"
      ],
      "execution_count": 0,
      "outputs": []
    },
    {
      "cell_type": "code",
      "metadata": {
        "id": "HpdddLi1SUMe",
        "colab_type": "code",
        "outputId": "26fa34b3-d3bb-4484-bead-99d75bba09c3",
        "colab": {
          "base_uri": "https://localhost:8080/",
          "height": 51
        }
      },
      "source": [
        "print(\"Validation loss:\", val_loss)\n",
        "print(\"Validation accuracy:\", val_acc)"
      ],
      "execution_count": 16,
      "outputs": [
        {
          "output_type": "stream",
          "text": [
            "Validation loss: 0.4166474938392639\n",
            "Validation accuracy: 0.9549999833106995\n"
          ],
          "name": "stdout"
        }
      ]
    },
    {
      "cell_type": "markdown",
      "metadata": {
        "id": "7Ww756WToby8",
        "colab_type": "text"
      },
      "source": [
        "## Save the model"
      ]
    },
    {
      "cell_type": "code",
      "metadata": {
        "id": "0lTUpUdwobKW",
        "colab_type": "code",
        "colab": {}
      },
      "source": [
        "model_fname = 'cats_and_dogs_small_4.h5' \n",
        "model.save(model_fname)"
      ],
      "execution_count": 0,
      "outputs": []
    },
    {
      "cell_type": "code",
      "metadata": {
        "id": "YhEoI8ZTok-X",
        "colab_type": "code",
        "colab": {
          "base_uri": "https://localhost:8080/",
          "height": 442
        },
        "outputId": "8b4497fe-7538-4ddd-e4e4-2a066fffcb7e"
      },
      "source": [
        "from google.colab import files\n",
        "\n",
        "with open(model_fname, 'r') as f:\n",
        "  files.download(model_fname)"
      ],
      "execution_count": 18,
      "outputs": [
        {
          "output_type": "stream",
          "text": [
            "----------------------------------------\n",
            "Exception happened during processing of request from ('::ffff:127.0.0.1', 60878, 0, 0)\n",
            "Traceback (most recent call last):\n",
            "  File \"/usr/lib/python3.6/socketserver.py\", line 320, in _handle_request_noblock\n",
            "    self.process_request(request, client_address)\n",
            "  File \"/usr/lib/python3.6/socketserver.py\", line 351, in process_request\n",
            "    self.finish_request(request, client_address)\n",
            "  File \"/usr/lib/python3.6/socketserver.py\", line 364, in finish_request\n",
            "    self.RequestHandlerClass(request, client_address, self)\n",
            "  File \"/usr/lib/python3.6/socketserver.py\", line 724, in __init__\n",
            "    self.handle()\n",
            "  File \"/usr/lib/python3.6/http/server.py\", line 418, in handle\n",
            "    self.handle_one_request()\n",
            "  File \"/usr/lib/python3.6/http/server.py\", line 406, in handle_one_request\n",
            "    method()\n",
            "  File \"/usr/lib/python3.6/http/server.py\", line 639, in do_GET\n",
            "    self.copyfile(f, self.wfile)\n",
            "  File \"/usr/lib/python3.6/http/server.py\", line 800, in copyfile\n",
            "    shutil.copyfileobj(source, outputfile)\n",
            "  File \"/usr/lib/python3.6/shutil.py\", line 82, in copyfileobj\n",
            "    fdst.write(buf)\n",
            "  File \"/usr/lib/python3.6/socketserver.py\", line 803, in write\n",
            "    self._sock.sendall(b)\n",
            "ConnectionResetError: [Errno 104] Connection reset by peer\n",
            "----------------------------------------\n"
          ],
          "name": "stderr"
        }
      ]
    }
  ]
}